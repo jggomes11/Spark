{
  "nbformat": 4,
  "nbformat_minor": 0,
  "metadata": {
    "colab": {
      "name": "Spark-DataFrame-SQL.ipynb",
      "provenance": [],
      "collapsed_sections": [
        "TvKFbgApZ3x3",
        "renD0PpiUcoE",
        "CUEmULRJXJEv",
        "wiS9QzibfZMj",
        "ZOcXTEyKGSNn"
      ],
      "toc_visible": true,
      "include_colab_link": true
    },
    "kernelspec": {
      "name": "python3",
      "display_name": "Python 3"
    }
  },
  "cells": [
    {
      "cell_type": "markdown",
      "metadata": {
        "id": "view-in-github",
        "colab_type": "text"
      },
      "source": [
        "<a href=\"https://colab.research.google.com/github/jggomes11/Spark/blob/main/Spark_DataFrame_SQL.ipynb\" target=\"_parent\"><img src=\"https://colab.research.google.com/assets/colab-badge.svg\" alt=\"Open In Colab\"/></a>"
      ]
    },
    {
      "cell_type": "markdown",
      "metadata": {
        "id": "dAIcOP3XBkvS"
      },
      "source": [
        "Steps:\n",
        "\n",
        "\n",
        "1.   Upload amazon-meta.txt.gz to Google Colab\n",
        "2.   Run all cells below\n",
        "\n"
      ]
    },
    {
      "cell_type": "markdown",
      "metadata": {
        "id": "TvKFbgApZ3x3"
      },
      "source": [
        "Install Dependencies\n",
        "---"
      ]
    },
    {
      "cell_type": "code",
      "metadata": {
        "id": "bN2Rh3ycWb1z"
      },
      "source": [
        "!apt-get install openjdk-8-jdk-headless -qq > /dev/null\n",
        "!wget -q https://downloads.apache.org/spark/spark-2.4.7/spark-2.4.7-bin-hadoop2.7.tgz\n",
        "!tar xf spark-2.4.7-bin-hadoop2.7.tgz"
      ],
      "execution_count": null,
      "outputs": []
    },
    {
      "cell_type": "code",
      "metadata": {
        "id": "kHqSfVHKWcBn"
      },
      "source": [
        "!pip install -q findspark"
      ],
      "execution_count": null,
      "outputs": []
    },
    {
      "cell_type": "markdown",
      "metadata": {
        "id": "renD0PpiUcoE"
      },
      "source": [
        "Setup Environment Variables\n",
        "---\n",
        "\n"
      ]
    },
    {
      "cell_type": "code",
      "metadata": {
        "id": "ExXwikWESbhy"
      },
      "source": [
        "import os\n",
        "os.environ[\"JAVA_HOME\"] = \"/usr/lib/jvm/java-8-openjdk-amd64\"\n",
        "os.environ[\"SPARK_HOME\"] = \"/content/spark-2.4.7-bin-hadoop2.7\"\n"
      ],
      "execution_count": null,
      "outputs": []
    },
    {
      "cell_type": "markdown",
      "metadata": {
        "id": "CUEmULRJXJEv"
      },
      "source": [
        "Start Spark Session\n",
        "---\n",
        "\n"
      ]
    },
    {
      "cell_type": "code",
      "metadata": {
        "id": "nvK2fhj6yXo8"
      },
      "source": [
        "import findspark\n",
        "findspark.init()\n",
        "\n",
        "\n",
        "from pyspark import StorageLevel\n",
        "from pyspark.sql import SparkSession, Window\n",
        "\n",
        "from pyspark.sql.functions import rank, col, row_number, avg\n",
        "from pyspark.sql.types import StructType, StructField, StringType, FloatType, IntegerType, DateType # Dataframe schema types\n",
        "\n",
        "spark = SparkSession.builder.master(\"local[*]\").getOrCreate()\n",
        "sc = spark.sparkContext"
      ],
      "execution_count": null,
      "outputs": []
    },
    {
      "cell_type": "markdown",
      "metadata": {
        "id": "wiS9QzibfZMj"
      },
      "source": [
        "Parser\n",
        "----"
      ]
    },
    {
      "cell_type": "code",
      "metadata": {
        "id": "Dl6lL7tLoQzs"
      },
      "source": [
        "import gzip # Used to open amazon-meta.txt.gz file"
      ],
      "execution_count": null,
      "outputs": []
    },
    {
      "cell_type": "code",
      "metadata": {
        "id": "_v4Weu-kaTbQ"
      },
      "source": [
        "def __write_categories(fileD, fileF,catList, product, avg):\n",
        "    \"\"\"Write amazon-meta.txt file's line categories\n",
        "\n",
        "    Parameters\n",
        "    -------------\n",
        "    fileD : file\n",
        "      File to answer question c\n",
        "    fileF : file\n",
        "      File to answer question f\n",
        "    catList : list\n",
        "      Actual product categories list\n",
        "    product : dict\n",
        "      Actual product being parsed\n",
        "    avg : str\n",
        "      Actual product's average being parsed\n",
        "\n",
        "    Returns\n",
        "    -------------\n",
        "\n",
        "    \"\"\"\n",
        "    asin = product[\"ASIN\"]\n",
        "    salesrank = product[\"salesrank\"]\n",
        "    avg = float(avg)\n",
        "    for cat in catList: # Write categorie on categories.txt file\n",
        "      fileD.write(f\"{cat};{salesrank};{asin}\\n\")\n",
        "      fileF.write(f\"{cat}|{avg}\\n\")"
      ],
      "execution_count": null,
      "outputs": []
    },
    {
      "cell_type": "code",
      "metadata": {
        "id": "HJqDW6dQXwDm"
      },
      "source": [
        "def __write_product(productFile, product):\n",
        "    \"\"\"Write amazon-meta.txt file's line product\n",
        "\n",
        "    Parameters\n",
        "    -------------\n",
        "    productFile : file\n",
        "      amazon-meta.txt products file\n",
        "    product : dict\n",
        "      Actual product being parsed data\n",
        "\n",
        "    Returns\n",
        "    -------------\n",
        "\n",
        "    \"\"\"\n",
        "  \n",
        "    asin = product[\"ASIN\"]\n",
        "    salesrank = product[\"salesrank\"]\n",
        "      \n",
        "    productFile.write(f\"{asin};{salesrank}\\n\")"
      ],
      "execution_count": null,
      "outputs": []
    },
    {
      "cell_type": "code",
      "metadata": {
        "id": "PCn3L4Jqzxdl"
      },
      "source": [
        "def __write_e(fileE, product, avg):\n",
        "    \"\"\"Write e file's line\n",
        "\n",
        "    Parameters\n",
        "    -------------\n",
        "    fileE : file\n",
        "      File to answer question e\n",
        "    product : dict\n",
        "      Actual product being parsed data\n",
        "    avg : file\n",
        "      avg-meta.txt products file\n",
        "\n",
        "    Returns\n",
        "    -------------\n",
        "\n",
        "    \"\"\"\n",
        "    asin = product[\"ASIN\"]\n",
        "    group = product[\"group\"]\n",
        "    avg = float(avg)\n",
        "\n",
        "    lineE = f'{group};{asin};{avg}'\n",
        "\n",
        "    fileE.write(f'{lineE}\\n')\n"
      ],
      "execution_count": null,
      "outputs": []
    },
    {
      "cell_type": "code",
      "metadata": {
        "id": "DLsZUfvHYwgs"
      },
      "source": [
        "def __write_review(fileA, fileC, fileG, reviewInfo, product, avg):\n",
        "    \"\"\"Write amazon-meta.txt file's line reviews\n",
        "\n",
        "    Parameters\n",
        "    -------------\n",
        "    fileA : file\n",
        "      File to answer question a\n",
        "    fileC : file\n",
        "      File to answer question c\n",
        "    fileE : file\n",
        "      File to answer question e\n",
        "    fileG : file\n",
        "      File to answer question g\n",
        "    reviewInfo : dict\n",
        "      amazon-meta.txt products file\n",
        "    product : dict\n",
        "      Actual product being parsed data\n",
        "    avg : file\n",
        "      avg-meta.txt products file\n",
        "\n",
        "    Returns\n",
        "    -------------\n",
        "\n",
        "    \"\"\"\n",
        "    # Variables\n",
        "    asin = product[\"ASIN\"]\n",
        "    group = product[\"group\"]\n",
        "    date = reviewInfo[0]\n",
        "    avg = float(avg)\n",
        "    customer_id = reviewInfo[2]\n",
        "    rating = int(reviewInfo[4]) \n",
        "    votes = int(reviewInfo[6]) \n",
        "    helpful = int(reviewInfo[8])\n",
        "\n",
        "    # File's lines to write\n",
        "    lineA = f'{asin};{helpful};{rating}'\n",
        "    lineC = f'{asin};{date};{rating}'\n",
        "    lineE = f'{group};{asin};{avg}'\n",
        "    lineG = f'{group};{customer_id}'\n",
        "\n",
        "    # Write lines\n",
        "    fileA.write(f'{lineA}\\n')\n",
        "    fileC.write(f'{lineC}\\n')\n",
        "    #fileE.write(f'{lineE}\\n')\n",
        "    fileG.write(f'{lineG}\\n')"
      ],
      "execution_count": null,
      "outputs": []
    },
    {
      "cell_type": "code",
      "metadata": {
        "id": "gNrTHN9oZrZm"
      },
      "source": [
        "def __write_similar(fileB, similarItems, product):\n",
        "    \"\"\"Write amazon-meta.txt file's line product's similars\n",
        "\n",
        "    Parameters\n",
        "    -------------\n",
        "    fileB : file\n",
        "      File to answer question b\n",
        "    product : list\n",
        "      similarItems\n",
        "\n",
        "    Returns\n",
        "    -------------\n",
        "\n",
        "    \"\"\"\n",
        "    asin = product[\"ASIN\"]\n",
        "    for item in similarItems:\n",
        "      fileB.write(f\"{asin};{item}\\n\")"
      ],
      "execution_count": null,
      "outputs": []
    },
    {
      "cell_type": "code",
      "metadata": {
        "id": "8YUhKhx5cnXQ"
      },
      "source": [
        "def parse(filepath):\n",
        "  \"\"\"Parse amazon-meta.txt.gz file\n",
        "  Parameters\n",
        "  -------------\n",
        "  filepath : str\n",
        "    Path to amazon-meta.txt.gz file\n",
        "  Returns\n",
        "  -------------\n",
        "  \"\"\"\n",
        "  \n",
        "  IGNORE_FIELDS = ['Total items']\n",
        "  product = None\n",
        "  categories = []\n",
        "\n",
        "  # Product-Sales file\n",
        "  productFile = open(\"product.csv\", \"w\")\n",
        "  # Similar file\n",
        "  fileB = open(\"b.csv\", \"w\")\n",
        "  # Reviews files\n",
        "  fileA = open(\"a.csv\", \"w\")\n",
        "  fileC = open(\"c.csv\", \"w\")\n",
        "  fileE = open(\"e.csv\", \"w\")\n",
        "  fileG = open(\"g.csv\", \"w\")\n",
        "  # Categories files\n",
        "  fileD = open(\"d.csv\", \"w\")\n",
        "  fileF = open(\"f.csv\", \"w\")\n",
        "\n",
        "  # Open amazon-meta.txt.gz\n",
        "  file = gzip.open(filePath, \"r\")\n",
        "\n",
        "  for line in file:\n",
        "    line = line.decode('utf-8')\n",
        "    line = line.strip()\n",
        "    colonPos = line.find(\":\")\n",
        "    if line.startswith(\"Id\"): # When find a new product\n",
        "      if product != None: # Find new item, but not the first one\n",
        "        __write_categories(fileD, fileF, categories, product, avg)\n",
        "        __write_product(productFile, product)\n",
        "      categories = []\n",
        "      avg=-1\n",
        "      product = {}  # Reset product dict to be used by the new product\n",
        "      product[\"id\"] = line[colonPos+4:]\n",
        "      product[\"title\"] = \"\"\n",
        "      product[\"group\"] = \"\"\n",
        "      product[\"salesrank\"] = \"-1\"\n",
        "      product[\"categorie\"] = \"\"\n",
        "    elif line.startswith(\"similar\"): #Find similar\n",
        "      similarItems = line.split()[2:]\n",
        "      __write_similar(fileB ,similarItems, product)\n",
        "    elif line.startswith(\"reviews\"): # Reviews header info\n",
        "      headerInfo = line.split()\n",
        "      avg = headerInfo[7]\n",
        "      __write_e(fileE, product, avg)\n",
        "    elif line.find(\"cutomer:\") != -1: #Find reviews\n",
        "      reviewInfo = line.split()\n",
        "      if reviewInfo[2]: # If product has review(s)\n",
        "        __write_review(fileA, fileC, fileG, reviewInfo, product, avg)\n",
        "    elif line.startswith(\"|\"): # Find categories\n",
        "      cats = line.split(\"|\")\n",
        "      for cat in cats:\n",
        "        if cat not in categories and cat:\n",
        "          categories.append(cat)\n",
        "    elif colonPos != -1:\n",
        "      prodName = line[:colonPos]\n",
        "      prodData = line[colonPos+2:]\n",
        "      if not prodName in IGNORE_FIELDS:\n",
        "        product[prodName] = prodData.strip()\n",
        "  #Insert last product on product.txt file\n",
        "  __write_product(productFile, product)\n",
        "  __write_categories(fileD, fileF,categories, product, avg)\n",
        "  # Closes all files\n",
        "  productFile.close()\n",
        "  fileA.close()\n",
        "  fileB.close()\n",
        "  fileC.close()\n",
        "  fileD.close()\n",
        "  fileF.close()\n",
        "  fileE.close()\n",
        "  fileG.close() "
      ],
      "execution_count": null,
      "outputs": []
    },
    {
      "cell_type": "code",
      "metadata": {
        "id": "_vwxkyIxMZz0",
        "outputId": "ce8d97ae-2cca-4931-e47b-34143ef13d83",
        "colab": {
          "base_uri": "https://localhost:8080/"
        }
      },
      "source": [
        "filePath = \"/content/amazon-meta.txt.gz\"\n",
        "\n",
        "parse(filePath) #Parse amazon-meta.txt.gz file function"
      ],
      "execution_count": null,
      "outputs": [
        {
          "output_type": "stream",
          "text": [
            "<class '_io.TextIOWrapper'>\n"
          ],
          "name": "stdout"
        }
      ]
    },
    {
      "cell_type": "markdown",
      "metadata": {
        "id": "ZOcXTEyKGSNn"
      },
      "source": [
        "Variables / Import (Setup)\n",
        "----"
      ]
    },
    {
      "cell_type": "code",
      "metadata": {
        "id": "5-XNGTQ59Suc"
      },
      "source": [
        "import pandas as pd"
      ],
      "execution_count": null,
      "outputs": []
    },
    {
      "cell_type": "code",
      "metadata": {
        "id": "touBpyUpRdOs"
      },
      "source": [
        "folderPath = \"/content\" # File's folder path\n",
        "\n",
        "productAsin = \"0738700797\" # Product"
      ],
      "execution_count": null,
      "outputs": []
    },
    {
      "cell_type": "markdown",
      "metadata": {
        "id": "UsczmuMt9KnL"
      },
      "source": [
        "Dataframe\n",
        "---"
      ]
    },
    {
      "cell_type": "markdown",
      "metadata": {
        "id": "zv31tA_OGZfi"
      },
      "source": [
        "(a) Dado produto, listar os 5 comentários mais úteis e com maior avaliação e os 5 comentários mais úteis e com menor avaliação"
      ]
    },
    {
      "cell_type": "code",
      "metadata": {
        "id": "Dbfxbjyb53Na"
      },
      "source": [
        "fileASchema = StructType([\n",
        "    StructField(\"Asin\", StringType(), False),\n",
        "    StructField(\"Helpful\", IntegerType(), False),\n",
        "    StructField(\"Average\", IntegerType(), False)])"
      ],
      "execution_count": null,
      "outputs": []
    },
    {
      "cell_type": "code",
      "metadata": {
        "id": "slrzgUoa1roZ"
      },
      "source": [
        "fileA = spark.read.option(\"delimiter\", \";\").csv(f\"{folderPath}/a.csv\", header=False, schema=fileASchema)\n",
        "dfFileA = fileA.toDF(\"asin\", \"helpful\", \"average\") #Columns names"
      ],
      "execution_count": null,
      "outputs": []
    },
    {
      "cell_type": "code",
      "metadata": {
        "id": "MzSVJDBp8K0Y"
      },
      "source": [
        "reviewsA = dfFileA.filter(col('asin') == productAsin)\n",
        "mostHelpful = reviewsA.sort(col(\"helpful\").desc()).cache()\n",
        "\n",
        "dataFrameA1 = mostHelpful.sort(col(\"average\").desc()).take(5)\n",
        "dataFrameA2 = mostHelpful.sort(col(\"average\").asc()).take(5)"
      ],
      "execution_count": null,
      "outputs": []
    },
    {
      "cell_type": "markdown",
      "metadata": {
        "id": "FKvlpXGp3mlK"
      },
      "source": [
        "------------"
      ]
    },
    {
      "cell_type": "markdown",
      "metadata": {
        "id": "X7HSIacR3vgr"
      },
      "source": [
        "(b) Dado um produto, listar os produtos similares com maiores vendas do que ele"
      ]
    },
    {
      "cell_type": "code",
      "metadata": {
        "id": "j84DR62-FYoI"
      },
      "source": [
        "# Schemas\n",
        "\n",
        "fileBSchema = StructType([\n",
        "    StructField(\"Asin\", StringType(), False),\n",
        "    StructField(\"Similar\", StringType(), False)])\n",
        "\n",
        "fileProductSchema = StructType([\n",
        "    StructField(\"Asin\", StringType(), False),\n",
        "    StructField(\"Salesrank\", IntegerType(), False)])"
      ],
      "execution_count": null,
      "outputs": []
    },
    {
      "cell_type": "code",
      "metadata": {
        "id": "tPyFOSttFbMm"
      },
      "source": [
        "# B file\n",
        "fileB = spark.read.option(\"delimiter\", \";\").csv(f\"{folderPath}/b.csv\", header=False, schema=fileBSchema)\n",
        "dfFileB = fileB.toDF(\"asin\", \"similar\") #Columns names\n",
        "\n",
        "# Product File\n",
        "fileProduct = spark.read.option(\"delimiter\", \";\").csv(f\"{folderPath}/product.csv\", header=False, schema=fileBSchema)\n",
        "dfFileProd = fileProduct.toDF(\"asin\", \"salesrank\") #Columns names"
      ],
      "execution_count": null,
      "outputs": []
    },
    {
      "cell_type": "code",
      "metadata": {
        "id": "HFYHz7zpHyXw"
      },
      "source": [
        "prodInfo = dfFileProd.filter(col('asin') == productAsin) # Product\n",
        "similarsProds = dfFileB.filter(col('asin') == productAsin) # Product's similars"
      ],
      "execution_count": null,
      "outputs": []
    },
    {
      "cell_type": "code",
      "metadata": {
        "id": "LoHvL2CSLYrZ"
      },
      "source": [
        "similarSales = similarsProds.join(prodInfo, 'asin').withColumnRenamed(\"salesrank\",\"product sales\")"
      ],
      "execution_count": null,
      "outputs": []
    },
    {
      "cell_type": "code",
      "metadata": {
        "id": "L_VJS8D6NHjX"
      },
      "source": [
        "fullSales = dfFileProd.join(similarSales, dfFileProd.asin == similarSales.similar)\n",
        "\n",
        "# Rename  salesrank column\n",
        "fullSales = fullSales.drop('asin').withColumnRenamed(\"salesrank\",\"similar sales\")\n",
        "# Higher salesrank\n",
        "dataFrameB = fullSales.filter(col('similar sales') < col('product sales')).collect()"
      ],
      "execution_count": null,
      "outputs": []
    },
    {
      "cell_type": "markdown",
      "metadata": {
        "id": "VuQ2Fep-3xyn"
      },
      "source": [
        "----"
      ]
    },
    {
      "cell_type": "markdown",
      "metadata": {
        "id": "TgMWhdmX35pQ"
      },
      "source": [
        "(c) Dado um produto, mostrar a evolução diária das médias de avaliação ao longo do intervalo de tempo coberto no arquivo de entrada"
      ]
    },
    {
      "cell_type": "code",
      "metadata": {
        "id": "_zWppSjDasAR"
      },
      "source": [
        "# Schema\n",
        "fileCSchema = StructType([\n",
        "    StructField(\"Asin\", StringType(), False),\n",
        "    StructField(\"Date\", DateType(), False),\n",
        "    StructField(\"Rating\", FloatType(), False)])"
      ],
      "execution_count": null,
      "outputs": []
    },
    {
      "cell_type": "code",
      "metadata": {
        "id": "ibaoIht5apD7"
      },
      "source": [
        "# C file [asin, date, rating]\n",
        "fileC = spark.read.option(\"delimiter\", \";\").csv(f\"{folderPath}/c.csv\", header=False, schema=fileCSchema)\n",
        "dfFileC = fileC.toDF(\"asin\", \"date\", \"rating\") #Columns names"
      ],
      "execution_count": null,
      "outputs": []
    },
    {
      "cell_type": "code",
      "metadata": {
        "id": "xkXuwQQ4bWvL"
      },
      "source": [
        "dataFrameC = dfFileC.filter(col('asin') == productAsin) \\\n",
        "                    .orderBy(\"date\") \\\n",
        "                    .drop('asin') \\\n",
        "                    .collect()"
      ],
      "execution_count": null,
      "outputs": []
    },
    {
      "cell_type": "markdown",
      "metadata": {
        "id": "5XkFFZs435pR"
      },
      "source": [
        "----"
      ]
    },
    {
      "cell_type": "markdown",
      "metadata": {
        "id": "UMrHzdT1K43l"
      },
      "source": [
        "(d) Listar os 10 produtos líderes de venda em categoria"
      ]
    },
    {
      "cell_type": "code",
      "metadata": {
        "id": "AtnsOIJEdh_Y"
      },
      "source": [
        "# Schema\n",
        "fileDSchema = StructType([\n",
        "    StructField(\"Categorie\", StringType(), False),\n",
        "    StructField(\"Salesrank\", IntegerType(), False),\n",
        "    StructField(\"Asin\", StringType(), False)])"
      ],
      "execution_count": null,
      "outputs": []
    },
    {
      "cell_type": "code",
      "metadata": {
        "id": "XopxfISddkaB"
      },
      "source": [
        "# D file [categorie, salesrank, asin]\n",
        "fileD = spark.read.option(\"delimiter\", \";\").csv(f\"{folderPath}/d.csv\", header=False, schema=fileDSchema)\n",
        "dfFileD = fileD.toDF(\"categorie\", \"salesrank\", \"asin\") \\\n",
        "               .filter(col('salesrank') > -1) # Remove negatives"
      ],
      "execution_count": null,
      "outputs": []
    },
    {
      "cell_type": "code",
      "metadata": {
        "id": "-Tuq_xdzgzLT"
      },
      "source": [
        "# Group products by categorie and order each grouped categorie by salesrank\n",
        "window = Window.partitionBy(dfFileD['categorie']) \\\n",
        "               .orderBy(dfFileD['salesrank'].asc())\n",
        "\n",
        "# Create an unique id for each group item, and retrieve the top 10 of each group\n",
        "dataFrameD = dfFileD.select('*', rank()\n",
        "                    .over(window).alias('id')) \\\n",
        "                    .filter(col('id') <= 10) \\\n",
        "                    .collect()"
      ],
      "execution_count": null,
      "outputs": []
    },
    {
      "cell_type": "markdown",
      "metadata": {
        "id": "AccQzx2iK43m"
      },
      "source": [
        "----"
      ]
    },
    {
      "cell_type": "markdown",
      "metadata": {
        "id": "BXYgUw7vkmLZ"
      },
      "source": [
        "(e) Listar os 10 produtos com a maior média de ratings por grupo (Group) de produtos\n"
      ]
    },
    {
      "cell_type": "code",
      "metadata": {
        "id": "F8o7lU3amX9W"
      },
      "source": [
        "# Schema\n",
        "fileESchema = StructType([\n",
        "    StructField(\"Group\", StringType(), False),\n",
        "    StructField(\"Asin\", StringType(), False),\n",
        "    StructField(\"Average\", FloatType(), False)])"
      ],
      "execution_count": null,
      "outputs": []
    },
    {
      "cell_type": "code",
      "metadata": {
        "id": "EpMFb-bjmYPl"
      },
      "source": [
        "# E file [group, asin, average]\n",
        "fileE = spark.read.option(\"delimiter\", \";\").csv(f\"{folderPath}/e.csv\", header=False, schema=fileESchema)\n",
        "\n",
        "dfFileE = fileE.toDF(\"group\", \"asin\", \"average\")"
      ],
      "execution_count": null,
      "outputs": []
    },
    {
      "cell_type": "code",
      "metadata": {
        "id": "VNm4VaExmi0Z"
      },
      "source": [
        "# Group products by group and order each grouped group by average\n",
        "window = Window.partitionBy(dfFileE[\"group\"]) \\\n",
        "               .orderBy(dfFileE[\"average\"].desc())\n",
        "\n",
        "# Create a row number for each group item, and retrieve the top 10 of each group\n",
        "dataFrameE = dfFileE.select('*', row_number().over(window).alias('row')) \\\n",
        "                    .filter(col('row') <= 10) \\\n",
        "                    .collect()"
      ],
      "execution_count": null,
      "outputs": []
    },
    {
      "cell_type": "markdown",
      "metadata": {
        "id": "GerBgkv6koHi"
      },
      "source": [
        "----"
      ]
    },
    {
      "cell_type": "markdown",
      "metadata": {
        "id": "a0kSaD7rkpvN"
      },
      "source": [
        "(f) Listar a 5 categorias de produto com a maior média geral de ratings \n"
      ]
    },
    {
      "cell_type": "code",
      "metadata": {
        "id": "OeNbJnfx4a6R"
      },
      "source": [
        "# Schema\n",
        "fileFSchema = StructType([\n",
        "    StructField(\"Categorie\", StringType(), False),\n",
        "    StructField(\"Average\", FloatType(), False)])"
      ],
      "execution_count": null,
      "outputs": []
    },
    {
      "cell_type": "code",
      "metadata": {
        "id": "MSAzt4kw4gAK"
      },
      "source": [
        "# F file [categorie, average]\n",
        "fileF = spark.read.option(\"delimiter\", \"|\").csv(f\"{folderPath}/f.csv\", header=False, schema=fileFSchema)\n",
        "\n",
        "dfFileF = fileF.toDF(\"categorie\", \"average\")"
      ],
      "execution_count": null,
      "outputs": []
    },
    {
      "cell_type": "code",
      "metadata": {
        "id": "aRRFF0_S41YL"
      },
      "source": [
        "dataFrameF = dfFileF.groupBy('categorie') \\\n",
        "                    .avg('average') \\\n",
        "                    .orderBy('avg(average)', ascending=False) \\\n",
        "                    .take(5)"
      ],
      "execution_count": null,
      "outputs": []
    },
    {
      "cell_type": "markdown",
      "metadata": {
        "id": "O3B9459JksF1"
      },
      "source": [
        "-----"
      ]
    },
    {
      "cell_type": "markdown",
      "metadata": {
        "id": "IBnyijpPkuOG"
      },
      "source": [
        "(g) Listar os 10 clientes que mais fizeram comentários por grupo (Group) de produto\n"
      ]
    },
    {
      "cell_type": "code",
      "metadata": {
        "id": "nxubGq0SEMcL"
      },
      "source": [
        "# Schema\n",
        "fileGSchema = StructType([\n",
        "    StructField(\"Group\", StringType(), False),\n",
        "    StructField(\"Customer\", StringType(), False)])"
      ],
      "execution_count": null,
      "outputs": []
    },
    {
      "cell_type": "code",
      "metadata": {
        "id": "Te1zRpc5EM0C"
      },
      "source": [
        "# G file [group, customer]\n",
        "fileG = spark.read.option(\"delimiter\", \";\").csv(f\"{folderPath}/g.csv\", header=False, schema=fileGSchema)\n",
        "\n",
        "dfFileG = fileG.toDF(\"group\", \"customer\")"
      ],
      "execution_count": null,
      "outputs": []
    },
    {
      "cell_type": "code",
      "metadata": {
        "id": "2G6kwpSdHBv7"
      },
      "source": [
        "# Count customers comments\n",
        "countComments = dfFileG.groupBy(\"group\", \"customer\") \\\n",
        "                       .count()"
      ],
      "execution_count": null,
      "outputs": []
    },
    {
      "cell_type": "code",
      "metadata": {
        "id": "kN41Wq0iKheg"
      },
      "source": [
        "# Group by group and order counts\n",
        "window = Window.partitionBy(countComments[\"group\"]) \\\n",
        "               .orderBy(countComments[\"count\"].desc())"
      ],
      "execution_count": null,
      "outputs": []
    },
    {
      "cell_type": "code",
      "metadata": {
        "id": "w6NC2927KhVh"
      },
      "source": [
        "# Select top 10 customers with more comments\n",
        "dataFrameG = countComments.select('*', row_number().over(window).alias('row')) \\\n",
        "                          .filter(col('row') <= 10) \\\n",
        "                          .collect()"
      ],
      "execution_count": null,
      "outputs": []
    },
    {
      "cell_type": "markdown",
      "metadata": {
        "id": "MIIo9Z0K7q6H"
      },
      "source": [
        "Views (SQL)\n",
        "---"
      ]
    },
    {
      "cell_type": "markdown",
      "metadata": {
        "id": "JVsGQshg7q6K"
      },
      "source": [
        "(a) Dado produto, listar os 5 comentários mais úteis e com maior avaliação e os 5 comentários mais úteis e com menor avaliação"
      ]
    },
    {
      "cell_type": "code",
      "metadata": {
        "id": "Lq_I_JXE7q6U"
      },
      "source": [
        "dfFileA.createOrReplaceTempView(\"a\")"
      ],
      "execution_count": null,
      "outputs": []
    },
    {
      "cell_type": "code",
      "metadata": {
        "id": "mmz35LlO7q6X"
      },
      "source": [
        "sqlA1 = spark.sql(f\"SELECT * \\\n",
        "                    FROM a  \\\n",
        "                    WHERE asin={productAsin} \\\n",
        "                    ORDER BY average DESC, helpful DESC \\\n",
        "                    LIMIT 5\").collect()\n",
        "\n",
        "sqlA2 = spark.sql(f\"SELECT * \\\n",
        "                    FROM a  \\\n",
        "                    WHERE asin={productAsin} \\\n",
        "                    ORDER BY average, helpful DESC \\\n",
        "                    LIMIT 5\").collect()"
      ],
      "execution_count": null,
      "outputs": []
    },
    {
      "cell_type": "markdown",
      "metadata": {
        "id": "pHaLyFB07q6v"
      },
      "source": [
        "------------"
      ]
    },
    {
      "cell_type": "markdown",
      "metadata": {
        "id": "Vt90QtZu7q6v"
      },
      "source": [
        "(b) Dado um produto, listar os produtos similares com maiores vendas do que ele"
      ]
    },
    {
      "cell_type": "code",
      "metadata": {
        "id": "l4LvLxBIMvt_"
      },
      "source": [
        "dfFileB.createOrReplaceTempView(\"b\")"
      ],
      "execution_count": null,
      "outputs": []
    },
    {
      "cell_type": "code",
      "metadata": {
        "id": "xjTtgq4YQXp6"
      },
      "source": [
        "dfFileProd.createOrReplaceTempView(\"p\")"
      ],
      "execution_count": null,
      "outputs": []
    },
    {
      "cell_type": "code",
      "metadata": {
        "id": "kvC1I3RzNGP0"
      },
      "source": [
        "sqlB = spark.sql(f\" SELECT * \\\n",
        "                    FROM \\\n",
        "                        (SELECT b.similar, p.salesrank \\\n",
        "                        FROM \\\n",
        "                            (SELECT * FROM b WHERE asin={productAsin}) \\\n",
        "                        AS b \\\n",
        "                        JOIN p ON p.asin=b.similar) \\\n",
        "                    WHERE salesrank < (SELECT salesrank FROM p WHERE asin={productAsin})\").collect()"
      ],
      "execution_count": null,
      "outputs": []
    },
    {
      "cell_type": "markdown",
      "metadata": {
        "id": "gbPI0gYy7q7E"
      },
      "source": [
        "----"
      ]
    },
    {
      "cell_type": "markdown",
      "metadata": {
        "id": "C-MxWnA37q7E"
      },
      "source": [
        "(c) Dado um produto, mostrar a evolução diária das médias de avaliação ao longo do intervalo de tempo coberto no arquivo de entrada"
      ]
    },
    {
      "cell_type": "code",
      "metadata": {
        "id": "svJQed_AjJQd"
      },
      "source": [
        "dfFileC.createOrReplaceTempView(\"c\")"
      ],
      "execution_count": null,
      "outputs": []
    },
    {
      "cell_type": "code",
      "metadata": {
        "id": "QDgtsJ6FjNir"
      },
      "source": [
        "sqlC = spark.sql(f\"SELECT date, rating \\\n",
        "                   FROM c \\\n",
        "                   WHERE asin={productAsin} \\\n",
        "                   ORDER BY date\").collect()"
      ],
      "execution_count": null,
      "outputs": []
    },
    {
      "cell_type": "markdown",
      "metadata": {
        "id": "IzgfcZP97q7P"
      },
      "source": [
        "----"
      ]
    },
    {
      "cell_type": "markdown",
      "metadata": {
        "id": "BUO3DT3X7q7P"
      },
      "source": [
        "(d) Listar os 10 produtos líderes de venda em categoria"
      ]
    },
    {
      "cell_type": "code",
      "metadata": {
        "id": "Bt-W8LG3nEko"
      },
      "source": [
        "dfFileD.createOrReplaceTempView(\"d\")"
      ],
      "execution_count": null,
      "outputs": []
    },
    {
      "cell_type": "code",
      "metadata": {
        "id": "E-HeTz_PnKAC"
      },
      "source": [
        "sqlD = spark.sql(f\"SELECT * \\\n",
        "                   FROM \\\n",
        "                       ( \\\n",
        "                         SELECT *, Rank() \\\n",
        "                          over  \\\n",
        "                              ( \\\n",
        "                                PARTITION BY categorie\\\n",
        "                                ORDER BY salesrank \\\n",
        "                              ) \\\n",
        "                          AS rank \\\n",
        "                          FROM d \\\n",
        "                        ) \\\n",
        "                    WHERE rank <= 10\").collect()"
      ],
      "execution_count": null,
      "outputs": []
    },
    {
      "cell_type": "markdown",
      "metadata": {
        "id": "GuDvQqYG7q7X"
      },
      "source": [
        "----"
      ]
    },
    {
      "cell_type": "markdown",
      "metadata": {
        "id": "PkossSQP7q7X"
      },
      "source": [
        "(e) Listar os 10 produtos com a maior média de ratings por grupo (Group) de produtos\n"
      ]
    },
    {
      "cell_type": "code",
      "metadata": {
        "id": "J3vWDzbnu67x"
      },
      "source": [
        "dfFileE.createOrReplaceTempView(\"e\")"
      ],
      "execution_count": null,
      "outputs": []
    },
    {
      "cell_type": "code",
      "metadata": {
        "id": "Hi_FRHG8u6gt"
      },
      "source": [
        "sqlE = spark.sql(f\"SELECT * \\\n",
        "                   FROM \\\n",
        "                       ( \\\n",
        "                         SELECT *, Row_Number() \\\n",
        "                          over  \\\n",
        "                              ( \\\n",
        "                                PARTITION BY group\\\n",
        "                                ORDER BY average DESC \\\n",
        "                              ) \\\n",
        "                          AS row \\\n",
        "                          FROM e \\\n",
        "                        ) \\\n",
        "                   WHERE row <= 10\").collect()"
      ],
      "execution_count": null,
      "outputs": []
    },
    {
      "cell_type": "markdown",
      "metadata": {
        "id": "cm0w_Xz67q7k"
      },
      "source": [
        "----"
      ]
    },
    {
      "cell_type": "markdown",
      "metadata": {
        "id": "tkVw0UMP7q7k"
      },
      "source": [
        "(f) Listar a 5 categorias de produto com a maior média geral de ratings \n"
      ]
    },
    {
      "cell_type": "code",
      "metadata": {
        "id": "gfy_Ci9uyA4i"
      },
      "source": [
        "dfFileF.createOrReplaceTempView(\"f\")"
      ],
      "execution_count": null,
      "outputs": []
    },
    {
      "cell_type": "code",
      "metadata": {
        "id": "I65DvrGgx6BC"
      },
      "source": [
        "sqlF = spark.sql(f\"SELECT categorie, AVG(average) AS AvgRating \\\n",
        "                   FROM f \\\n",
        "                   GROUP BY categorie \\\n",
        "                   ORDER BY AvgRating DESC \\\n",
        "                   LIMIT 5\").collect()"
      ],
      "execution_count": null,
      "outputs": []
    },
    {
      "cell_type": "markdown",
      "metadata": {
        "id": "CNoGw45v7q73"
      },
      "source": [
        "-----"
      ]
    },
    {
      "cell_type": "markdown",
      "metadata": {
        "id": "GbFV6C4y7q73"
      },
      "source": [
        "(g) Listar os 10 clientes que mais fizeram comentários por grupo (Group) de produto\n"
      ]
    },
    {
      "cell_type": "code",
      "metadata": {
        "id": "40o3WM5m1MBR"
      },
      "source": [
        "dfFileG.createOrReplaceTempView(\"g\")"
      ],
      "execution_count": null,
      "outputs": []
    },
    {
      "cell_type": "code",
      "metadata": {
        "id": "cwtPp3iv1LrR"
      },
      "source": [
        "sqlG = spark.sql(f\"SELECT * \\\n",
        "                   FROM \\\n",
        "                       ( \\\n",
        "                         SELECT *, Row_Number() \\\n",
        "                          over  \\\n",
        "                              ( \\\n",
        "                                PARTITION BY group\\\n",
        "                                ORDER BY CountComment DESC \\\n",
        "                              ) \\\n",
        "                          AS row \\\n",
        "                          FROM \\\n",
        "                              ( \\\n",
        "                                SELECT group, customer, COUNT(customer) AS CountComment \\\n",
        "                                FROM g \\\n",
        "                                GROUP BY group, customer \\\n",
        "                                ORDER BY CountComment DESC \\\n",
        "                              ) \\\n",
        "                        ) \\\n",
        "                   WHERE row <= 10\").collect()"
      ],
      "execution_count": null,
      "outputs": []
    },
    {
      "cell_type": "markdown",
      "metadata": {
        "id": "pd7wwoIhJlau"
      },
      "source": [
        "Dashboard (DataFrames)\n",
        "---"
      ]
    },
    {
      "cell_type": "code",
      "metadata": {
        "id": "ipX2Tss9Vrtj",
        "outputId": "83b8c989-0981-4d74-e7d1-5283bc2cbeed",
        "colab": {
          "base_uri": "https://localhost:8080/"
        }
      },
      "source": [
        "print(f'Product: {productAsin}')"
      ],
      "execution_count": null,
      "outputs": [
        {
          "output_type": "stream",
          "text": [
            "Product: 0738700797\n"
          ],
          "name": "stdout"
        }
      ]
    },
    {
      "cell_type": "markdown",
      "metadata": {
        "id": "CCGrTZgHJ78B"
      },
      "source": [
        "> Dataframe"
      ]
    },
    {
      "cell_type": "code",
      "metadata": {
        "id": "kiivv3AlUFqw",
        "outputId": "d714a62f-801f-4397-947a-e223cb215fc3",
        "colab": {
          "base_uri": "https://localhost:8080/",
          "height": 204
        }
      },
      "source": [
        "# A1\n",
        "pd.DataFrame(dataFrameA1, columns=[\"asin\", \"helpful\", \"rating\"])"
      ],
      "execution_count": null,
      "outputs": [
        {
          "output_type": "execute_result",
          "data": {
            "text/html": [
              "<div>\n",
              "<style scoped>\n",
              "    .dataframe tbody tr th:only-of-type {\n",
              "        vertical-align: middle;\n",
              "    }\n",
              "\n",
              "    .dataframe tbody tr th {\n",
              "        vertical-align: top;\n",
              "    }\n",
              "\n",
              "    .dataframe thead th {\n",
              "        text-align: right;\n",
              "    }\n",
              "</style>\n",
              "<table border=\"1\" class=\"dataframe\">\n",
              "  <thead>\n",
              "    <tr style=\"text-align: right;\">\n",
              "      <th></th>\n",
              "      <th>asin</th>\n",
              "      <th>helpful</th>\n",
              "      <th>rating</th>\n",
              "    </tr>\n",
              "  </thead>\n",
              "  <tbody>\n",
              "    <tr>\n",
              "      <th>0</th>\n",
              "      <td>0738700797</td>\n",
              "      <td>5</td>\n",
              "      <td>5</td>\n",
              "    </tr>\n",
              "    <tr>\n",
              "      <th>1</th>\n",
              "      <td>0738700797</td>\n",
              "      <td>5</td>\n",
              "      <td>5</td>\n",
              "    </tr>\n",
              "    <tr>\n",
              "      <th>2</th>\n",
              "      <td>0738700797</td>\n",
              "      <td>8</td>\n",
              "      <td>5</td>\n",
              "    </tr>\n",
              "    <tr>\n",
              "      <th>3</th>\n",
              "      <td>0738700797</td>\n",
              "      <td>8</td>\n",
              "      <td>5</td>\n",
              "    </tr>\n",
              "    <tr>\n",
              "      <th>4</th>\n",
              "      <td>0738700797</td>\n",
              "      <td>1</td>\n",
              "      <td>5</td>\n",
              "    </tr>\n",
              "  </tbody>\n",
              "</table>\n",
              "</div>"
            ],
            "text/plain": [
              "         asin  helpful  rating\n",
              "0  0738700797        5       5\n",
              "1  0738700797        5       5\n",
              "2  0738700797        8       5\n",
              "3  0738700797        8       5\n",
              "4  0738700797        1       5"
            ]
          },
          "metadata": {
            "tags": []
          },
          "execution_count": 294
        }
      ]
    },
    {
      "cell_type": "code",
      "metadata": {
        "id": "OmHUN4LiUSM4",
        "outputId": "6099e66b-e3c9-4539-de6e-f9a737f42a4e",
        "colab": {
          "base_uri": "https://localhost:8080/",
          "height": 204
        }
      },
      "source": [
        "# A2\n",
        "pd.DataFrame(dataFrameA2, columns=[\"asin\", \"helpful\", \"rating\"])"
      ],
      "execution_count": null,
      "outputs": [
        {
          "output_type": "execute_result",
          "data": {
            "text/html": [
              "<div>\n",
              "<style scoped>\n",
              "    .dataframe tbody tr th:only-of-type {\n",
              "        vertical-align: middle;\n",
              "    }\n",
              "\n",
              "    .dataframe tbody tr th {\n",
              "        vertical-align: top;\n",
              "    }\n",
              "\n",
              "    .dataframe thead th {\n",
              "        text-align: right;\n",
              "    }\n",
              "</style>\n",
              "<table border=\"1\" class=\"dataframe\">\n",
              "  <thead>\n",
              "    <tr style=\"text-align: right;\">\n",
              "      <th></th>\n",
              "      <th>asin</th>\n",
              "      <th>helpful</th>\n",
              "      <th>rating</th>\n",
              "    </tr>\n",
              "  </thead>\n",
              "  <tbody>\n",
              "    <tr>\n",
              "      <th>0</th>\n",
              "      <td>0738700797</td>\n",
              "      <td>9</td>\n",
              "      <td>1</td>\n",
              "    </tr>\n",
              "    <tr>\n",
              "      <th>1</th>\n",
              "      <td>0738700797</td>\n",
              "      <td>5</td>\n",
              "      <td>4</td>\n",
              "    </tr>\n",
              "    <tr>\n",
              "      <th>2</th>\n",
              "      <td>0738700797</td>\n",
              "      <td>6</td>\n",
              "      <td>4</td>\n",
              "    </tr>\n",
              "    <tr>\n",
              "      <th>3</th>\n",
              "      <td>0738700797</td>\n",
              "      <td>16</td>\n",
              "      <td>4</td>\n",
              "    </tr>\n",
              "    <tr>\n",
              "      <th>4</th>\n",
              "      <td>0738700797</td>\n",
              "      <td>5</td>\n",
              "      <td>4</td>\n",
              "    </tr>\n",
              "  </tbody>\n",
              "</table>\n",
              "</div>"
            ],
            "text/plain": [
              "         asin  helpful  rating\n",
              "0  0738700797        9       1\n",
              "1  0738700797        5       4\n",
              "2  0738700797        6       4\n",
              "3  0738700797       16       4\n",
              "4  0738700797        5       4"
            ]
          },
          "metadata": {
            "tags": []
          },
          "execution_count": 295
        }
      ]
    },
    {
      "cell_type": "code",
      "metadata": {
        "id": "MVclj866UFPq",
        "outputId": "80718660-643e-401e-8a77-fd54f45d39f9",
        "colab": {
          "base_uri": "https://localhost:8080/",
          "height": 111
        }
      },
      "source": [
        "# B\n",
        "pd.DataFrame(dataFrameB, columns=[\"Similar Sales\", \"ASIN(Similar)\", \"Product Sales\"])"
      ],
      "execution_count": null,
      "outputs": [
        {
          "output_type": "execute_result",
          "data": {
            "text/html": [
              "<div>\n",
              "<style scoped>\n",
              "    .dataframe tbody tr th:only-of-type {\n",
              "        vertical-align: middle;\n",
              "    }\n",
              "\n",
              "    .dataframe tbody tr th {\n",
              "        vertical-align: top;\n",
              "    }\n",
              "\n",
              "    .dataframe thead th {\n",
              "        text-align: right;\n",
              "    }\n",
              "</style>\n",
              "<table border=\"1\" class=\"dataframe\">\n",
              "  <thead>\n",
              "    <tr style=\"text-align: right;\">\n",
              "      <th></th>\n",
              "      <th>Similar Sales</th>\n",
              "      <th>ASIN(Similar)</th>\n",
              "      <th>Product Sales</th>\n",
              "    </tr>\n",
              "  </thead>\n",
              "  <tbody>\n",
              "    <tr>\n",
              "      <th>0</th>\n",
              "      <td>103012</td>\n",
              "      <td>1567184960</td>\n",
              "      <td>168596</td>\n",
              "    </tr>\n",
              "    <tr>\n",
              "      <th>1</th>\n",
              "      <td>159277</td>\n",
              "      <td>0738700525</td>\n",
              "      <td>168596</td>\n",
              "    </tr>\n",
              "  </tbody>\n",
              "</table>\n",
              "</div>"
            ],
            "text/plain": [
              "  Similar Sales ASIN(Similar) Product Sales\n",
              "0        103012    1567184960        168596\n",
              "1        159277    0738700525        168596"
            ]
          },
          "metadata": {
            "tags": []
          },
          "execution_count": 296
        }
      ]
    },
    {
      "cell_type": "code",
      "metadata": {
        "id": "u3EFMy-KUEpJ",
        "outputId": "a121c51c-972c-49cb-c76b-9012c9083091",
        "colab": {
          "base_uri": "https://localhost:8080/",
          "height": 421
        }
      },
      "source": [
        "# C\n",
        "pd.DataFrame(dataFrameC, columns=[\"Date\", \"Average\"])"
      ],
      "execution_count": null,
      "outputs": [
        {
          "output_type": "execute_result",
          "data": {
            "text/html": [
              "<div>\n",
              "<style scoped>\n",
              "    .dataframe tbody tr th:only-of-type {\n",
              "        vertical-align: middle;\n",
              "    }\n",
              "\n",
              "    .dataframe tbody tr th {\n",
              "        vertical-align: top;\n",
              "    }\n",
              "\n",
              "    .dataframe thead th {\n",
              "        text-align: right;\n",
              "    }\n",
              "</style>\n",
              "<table border=\"1\" class=\"dataframe\">\n",
              "  <thead>\n",
              "    <tr style=\"text-align: right;\">\n",
              "      <th></th>\n",
              "      <th>Date</th>\n",
              "      <th>Average</th>\n",
              "    </tr>\n",
              "  </thead>\n",
              "  <tbody>\n",
              "    <tr>\n",
              "      <th>0</th>\n",
              "      <td>2001-12-16</td>\n",
              "      <td>5.0</td>\n",
              "    </tr>\n",
              "    <tr>\n",
              "      <th>1</th>\n",
              "      <td>2002-01-07</td>\n",
              "      <td>4.0</td>\n",
              "    </tr>\n",
              "    <tr>\n",
              "      <th>2</th>\n",
              "      <td>2002-01-24</td>\n",
              "      <td>5.0</td>\n",
              "    </tr>\n",
              "    <tr>\n",
              "      <th>3</th>\n",
              "      <td>2002-01-28</td>\n",
              "      <td>5.0</td>\n",
              "    </tr>\n",
              "    <tr>\n",
              "      <th>4</th>\n",
              "      <td>2002-02-06</td>\n",
              "      <td>4.0</td>\n",
              "    </tr>\n",
              "    <tr>\n",
              "      <th>5</th>\n",
              "      <td>2002-02-14</td>\n",
              "      <td>4.0</td>\n",
              "    </tr>\n",
              "    <tr>\n",
              "      <th>6</th>\n",
              "      <td>2002-03-23</td>\n",
              "      <td>4.0</td>\n",
              "    </tr>\n",
              "    <tr>\n",
              "      <th>7</th>\n",
              "      <td>2002-05-23</td>\n",
              "      <td>5.0</td>\n",
              "    </tr>\n",
              "    <tr>\n",
              "      <th>8</th>\n",
              "      <td>2003-02-25</td>\n",
              "      <td>5.0</td>\n",
              "    </tr>\n",
              "    <tr>\n",
              "      <th>9</th>\n",
              "      <td>2003-11-25</td>\n",
              "      <td>5.0</td>\n",
              "    </tr>\n",
              "    <tr>\n",
              "      <th>10</th>\n",
              "      <td>2004-02-11</td>\n",
              "      <td>1.0</td>\n",
              "    </tr>\n",
              "    <tr>\n",
              "      <th>11</th>\n",
              "      <td>2005-02-07</td>\n",
              "      <td>5.0</td>\n",
              "    </tr>\n",
              "  </tbody>\n",
              "</table>\n",
              "</div>"
            ],
            "text/plain": [
              "          Date  Average\n",
              "0   2001-12-16      5.0\n",
              "1   2002-01-07      4.0\n",
              "2   2002-01-24      5.0\n",
              "3   2002-01-28      5.0\n",
              "4   2002-02-06      4.0\n",
              "5   2002-02-14      4.0\n",
              "6   2002-03-23      4.0\n",
              "7   2002-05-23      5.0\n",
              "8   2003-02-25      5.0\n",
              "9   2003-11-25      5.0\n",
              "10  2004-02-11      1.0\n",
              "11  2005-02-07      5.0"
            ]
          },
          "metadata": {
            "tags": []
          },
          "execution_count": 297
        }
      ]
    },
    {
      "cell_type": "code",
      "metadata": {
        "id": "Ad86F7g9UDUI",
        "outputId": "3e21dc60-2deb-420f-c8a3-13a9d57cac18",
        "colab": {
          "base_uri": "https://localhost:8080/",
          "height": 419
        }
      },
      "source": [
        "# D\n",
        "pd.DataFrame(dataFrameD, columns=[\"categorie\", \"salesrank\", \"asin\", \"row (group)\"])"
      ],
      "execution_count": null,
      "outputs": [
        {
          "output_type": "execute_result",
          "data": {
            "text/html": [
              "<div>\n",
              "<style scoped>\n",
              "    .dataframe tbody tr th:only-of-type {\n",
              "        vertical-align: middle;\n",
              "    }\n",
              "\n",
              "    .dataframe tbody tr th {\n",
              "        vertical-align: top;\n",
              "    }\n",
              "\n",
              "    .dataframe thead th {\n",
              "        text-align: right;\n",
              "    }\n",
              "</style>\n",
              "<table border=\"1\" class=\"dataframe\">\n",
              "  <thead>\n",
              "    <tr style=\"text-align: right;\">\n",
              "      <th></th>\n",
              "      <th>categorie</th>\n",
              "      <th>salesrank</th>\n",
              "      <th>asin</th>\n",
              "      <th>row (group)</th>\n",
              "    </tr>\n",
              "  </thead>\n",
              "  <tbody>\n",
              "    <tr>\n",
              "      <th>0</th>\n",
              "      <td>( J )[70031]</td>\n",
              "      <td>5224</td>\n",
              "      <td>0679722769</td>\n",
              "      <td>1</td>\n",
              "    </tr>\n",
              "    <tr>\n",
              "      <th>1</th>\n",
              "      <td>( J )[70031]</td>\n",
              "      <td>8728</td>\n",
              "      <td>0140432620</td>\n",
              "      <td>2</td>\n",
              "    </tr>\n",
              "    <tr>\n",
              "      <th>2</th>\n",
              "      <td>( J )[70031]</td>\n",
              "      <td>9342</td>\n",
              "      <td>0486268705</td>\n",
              "      <td>3</td>\n",
              "    </tr>\n",
              "    <tr>\n",
              "      <th>3</th>\n",
              "      <td>( J )[70031]</td>\n",
              "      <td>27533</td>\n",
              "      <td>0486266842</td>\n",
              "      <td>4</td>\n",
              "    </tr>\n",
              "    <tr>\n",
              "      <th>4</th>\n",
              "      <td>( J )[70031]</td>\n",
              "      <td>28030</td>\n",
              "      <td>0141181265</td>\n",
              "      <td>5</td>\n",
              "    </tr>\n",
              "    <tr>\n",
              "      <th>...</th>\n",
              "      <td>...</td>\n",
              "      <td>...</td>\n",
              "      <td>...</td>\n",
              "      <td>...</td>\n",
              "    </tr>\n",
              "    <tr>\n",
              "      <th>335934</th>\n",
              "      <td>[139452]</td>\n",
              "      <td>2</td>\n",
              "      <td>6301627024</td>\n",
              "      <td>6</td>\n",
              "    </tr>\n",
              "    <tr>\n",
              "      <th>335935</th>\n",
              "      <td>[139452]</td>\n",
              "      <td>6</td>\n",
              "      <td>B00005T33H</td>\n",
              "      <td>7</td>\n",
              "    </tr>\n",
              "    <tr>\n",
              "      <th>335936</th>\n",
              "      <td>[139452]</td>\n",
              "      <td>7</td>\n",
              "      <td>6302946387</td>\n",
              "      <td>8</td>\n",
              "    </tr>\n",
              "    <tr>\n",
              "      <th>335937</th>\n",
              "      <td>[139452]</td>\n",
              "      <td>8</td>\n",
              "      <td>6301729897</td>\n",
              "      <td>9</td>\n",
              "    </tr>\n",
              "    <tr>\n",
              "      <th>335938</th>\n",
              "      <td>[139452]</td>\n",
              "      <td>12</td>\n",
              "      <td>6300185788</td>\n",
              "      <td>10</td>\n",
              "    </tr>\n",
              "  </tbody>\n",
              "</table>\n",
              "<p>335939 rows × 4 columns</p>\n",
              "</div>"
            ],
            "text/plain": [
              "           categorie  salesrank        asin  row (group)\n",
              "0       ( J )[70031]       5224  0679722769            1\n",
              "1       ( J )[70031]       8728  0140432620            2\n",
              "2       ( J )[70031]       9342  0486268705            3\n",
              "3       ( J )[70031]      27533  0486266842            4\n",
              "4       ( J )[70031]      28030  0141181265            5\n",
              "...              ...        ...         ...          ...\n",
              "335934      [139452]          2  6301627024            6\n",
              "335935      [139452]          6  B00005T33H            7\n",
              "335936      [139452]          7  6302946387            8\n",
              "335937      [139452]          8  6301729897            9\n",
              "335938      [139452]         12  6300185788           10\n",
              "\n",
              "[335939 rows x 4 columns]"
            ]
          },
          "metadata": {
            "tags": []
          },
          "execution_count": 298
        }
      ]
    },
    {
      "cell_type": "code",
      "metadata": {
        "id": "Be0LJcAfKGn8",
        "outputId": "35527e9d-3567-4b8a-dc09-8997d7b6b6d3",
        "colab": {
          "base_uri": "https://localhost:8080/",
          "height": 1000
        }
      },
      "source": [
        "# E\n",
        "pd.DataFrame(dataFrameE, columns=[\"group\", \"Asin\", \"average\", \"row (group)\"])"
      ],
      "execution_count": null,
      "outputs": [
        {
          "output_type": "execute_result",
          "data": {
            "text/html": [
              "<div>\n",
              "<style scoped>\n",
              "    .dataframe tbody tr th:only-of-type {\n",
              "        vertical-align: middle;\n",
              "    }\n",
              "\n",
              "    .dataframe tbody tr th {\n",
              "        vertical-align: top;\n",
              "    }\n",
              "\n",
              "    .dataframe thead th {\n",
              "        text-align: right;\n",
              "    }\n",
              "</style>\n",
              "<table border=\"1\" class=\"dataframe\">\n",
              "  <thead>\n",
              "    <tr style=\"text-align: right;\">\n",
              "      <th></th>\n",
              "      <th>group</th>\n",
              "      <th>Asin</th>\n",
              "      <th>average</th>\n",
              "      <th>row (group)</th>\n",
              "    </tr>\n",
              "  </thead>\n",
              "  <tbody>\n",
              "    <tr>\n",
              "      <th>0</th>\n",
              "      <td>Video</td>\n",
              "      <td>B0000060T5</td>\n",
              "      <td>5.0</td>\n",
              "      <td>1</td>\n",
              "    </tr>\n",
              "    <tr>\n",
              "      <th>1</th>\n",
              "      <td>Video</td>\n",
              "      <td>B00000IC8N</td>\n",
              "      <td>5.0</td>\n",
              "      <td>2</td>\n",
              "    </tr>\n",
              "    <tr>\n",
              "      <th>2</th>\n",
              "      <td>Video</td>\n",
              "      <td>6304733542</td>\n",
              "      <td>5.0</td>\n",
              "      <td>3</td>\n",
              "    </tr>\n",
              "    <tr>\n",
              "      <th>3</th>\n",
              "      <td>Video</td>\n",
              "      <td>6301045734</td>\n",
              "      <td>5.0</td>\n",
              "      <td>4</td>\n",
              "    </tr>\n",
              "    <tr>\n",
              "      <th>4</th>\n",
              "      <td>Video</td>\n",
              "      <td>0792296176</td>\n",
              "      <td>5.0</td>\n",
              "      <td>5</td>\n",
              "    </tr>\n",
              "    <tr>\n",
              "      <th>5</th>\n",
              "      <td>Video</td>\n",
              "      <td>B00000I9PH</td>\n",
              "      <td>5.0</td>\n",
              "      <td>6</td>\n",
              "    </tr>\n",
              "    <tr>\n",
              "      <th>6</th>\n",
              "      <td>Video</td>\n",
              "      <td>6303864120</td>\n",
              "      <td>5.0</td>\n",
              "      <td>7</td>\n",
              "    </tr>\n",
              "    <tr>\n",
              "      <th>7</th>\n",
              "      <td>Video</td>\n",
              "      <td>1929732058</td>\n",
              "      <td>5.0</td>\n",
              "      <td>8</td>\n",
              "    </tr>\n",
              "    <tr>\n",
              "      <th>8</th>\n",
              "      <td>Video</td>\n",
              "      <td>6304907761</td>\n",
              "      <td>5.0</td>\n",
              "      <td>9</td>\n",
              "    </tr>\n",
              "    <tr>\n",
              "      <th>9</th>\n",
              "      <td>Video</td>\n",
              "      <td>6302598869</td>\n",
              "      <td>5.0</td>\n",
              "      <td>10</td>\n",
              "    </tr>\n",
              "    <tr>\n",
              "      <th>10</th>\n",
              "      <td>Toy</td>\n",
              "      <td>B000075A8O</td>\n",
              "      <td>5.0</td>\n",
              "      <td>1</td>\n",
              "    </tr>\n",
              "    <tr>\n",
              "      <th>11</th>\n",
              "      <td>Toy</td>\n",
              "      <td>0963679600</td>\n",
              "      <td>5.0</td>\n",
              "      <td>2</td>\n",
              "    </tr>\n",
              "    <tr>\n",
              "      <th>12</th>\n",
              "      <td>Toy</td>\n",
              "      <td>0963679678</td>\n",
              "      <td>5.0</td>\n",
              "      <td>3</td>\n",
              "    </tr>\n",
              "    <tr>\n",
              "      <th>13</th>\n",
              "      <td>Toy</td>\n",
              "      <td>1572810939</td>\n",
              "      <td>5.0</td>\n",
              "      <td>4</td>\n",
              "    </tr>\n",
              "    <tr>\n",
              "      <th>14</th>\n",
              "      <td>Toy</td>\n",
              "      <td>B000059T05</td>\n",
              "      <td>4.0</td>\n",
              "      <td>5</td>\n",
              "    </tr>\n",
              "    <tr>\n",
              "      <th>15</th>\n",
              "      <td>Toy</td>\n",
              "      <td>B000053W7W</td>\n",
              "      <td>3.5</td>\n",
              "      <td>6</td>\n",
              "    </tr>\n",
              "    <tr>\n",
              "      <th>16</th>\n",
              "      <td>Toy</td>\n",
              "      <td>B000055XW3</td>\n",
              "      <td>3.0</td>\n",
              "      <td>7</td>\n",
              "    </tr>\n",
              "    <tr>\n",
              "      <th>17</th>\n",
              "      <td>Toy</td>\n",
              "      <td>0963679627</td>\n",
              "      <td>0.0</td>\n",
              "      <td>8</td>\n",
              "    </tr>\n",
              "    <tr>\n",
              "      <th>18</th>\n",
              "      <td>DVD</td>\n",
              "      <td>B00000IC8Z</td>\n",
              "      <td>5.0</td>\n",
              "      <td>1</td>\n",
              "    </tr>\n",
              "    <tr>\n",
              "      <th>19</th>\n",
              "      <td>DVD</td>\n",
              "      <td>B00007L4N1</td>\n",
              "      <td>5.0</td>\n",
              "      <td>2</td>\n",
              "    </tr>\n",
              "    <tr>\n",
              "      <th>20</th>\n",
              "      <td>DVD</td>\n",
              "      <td>B000050X32</td>\n",
              "      <td>5.0</td>\n",
              "      <td>3</td>\n",
              "    </tr>\n",
              "    <tr>\n",
              "      <th>21</th>\n",
              "      <td>DVD</td>\n",
              "      <td>B00004RFI7</td>\n",
              "      <td>5.0</td>\n",
              "      <td>4</td>\n",
              "    </tr>\n",
              "    <tr>\n",
              "      <th>22</th>\n",
              "      <td>DVD</td>\n",
              "      <td>B00005YTR8</td>\n",
              "      <td>5.0</td>\n",
              "      <td>5</td>\n",
              "    </tr>\n",
              "    <tr>\n",
              "      <th>23</th>\n",
              "      <td>DVD</td>\n",
              "      <td>B00005NB96</td>\n",
              "      <td>5.0</td>\n",
              "      <td>6</td>\n",
              "    </tr>\n",
              "    <tr>\n",
              "      <th>24</th>\n",
              "      <td>DVD</td>\n",
              "      <td>B00006DXXU</td>\n",
              "      <td>5.0</td>\n",
              "      <td>7</td>\n",
              "    </tr>\n",
              "    <tr>\n",
              "      <th>25</th>\n",
              "      <td>DVD</td>\n",
              "      <td>B00004ST9H</td>\n",
              "      <td>5.0</td>\n",
              "      <td>8</td>\n",
              "    </tr>\n",
              "    <tr>\n",
              "      <th>26</th>\n",
              "      <td>DVD</td>\n",
              "      <td>B00005RYA1</td>\n",
              "      <td>5.0</td>\n",
              "      <td>9</td>\n",
              "    </tr>\n",
              "    <tr>\n",
              "      <th>27</th>\n",
              "      <td>DVD</td>\n",
              "      <td>6305972869</td>\n",
              "      <td>5.0</td>\n",
              "      <td>10</td>\n",
              "    </tr>\n",
              "    <tr>\n",
              "      <th>28</th>\n",
              "      <td>Sports</td>\n",
              "      <td>B00002EPXM</td>\n",
              "      <td>4.0</td>\n",
              "      <td>1</td>\n",
              "    </tr>\n",
              "    <tr>\n",
              "      <th>29</th>\n",
              "      <td>Baby Product</td>\n",
              "      <td>0880881658</td>\n",
              "      <td>4.5</td>\n",
              "      <td>1</td>\n",
              "    </tr>\n",
              "    <tr>\n",
              "      <th>30</th>\n",
              "      <td>Video Games</td>\n",
              "      <td>0761542639</td>\n",
              "      <td>2.5</td>\n",
              "      <td>1</td>\n",
              "    </tr>\n",
              "    <tr>\n",
              "      <th>31</th>\n",
              "      <td>Book</td>\n",
              "      <td>0827229534</td>\n",
              "      <td>5.0</td>\n",
              "      <td>1</td>\n",
              "    </tr>\n",
              "    <tr>\n",
              "      <th>32</th>\n",
              "      <td>Book</td>\n",
              "      <td>0486287785</td>\n",
              "      <td>5.0</td>\n",
              "      <td>2</td>\n",
              "    </tr>\n",
              "    <tr>\n",
              "      <th>33</th>\n",
              "      <td>Book</td>\n",
              "      <td>0871318237</td>\n",
              "      <td>5.0</td>\n",
              "      <td>3</td>\n",
              "    </tr>\n",
              "    <tr>\n",
              "      <th>34</th>\n",
              "      <td>Book</td>\n",
              "      <td>3895780812</td>\n",
              "      <td>5.0</td>\n",
              "      <td>4</td>\n",
              "    </tr>\n",
              "    <tr>\n",
              "      <th>35</th>\n",
              "      <td>Book</td>\n",
              "      <td>0895872218</td>\n",
              "      <td>5.0</td>\n",
              "      <td>5</td>\n",
              "    </tr>\n",
              "    <tr>\n",
              "      <th>36</th>\n",
              "      <td>Book</td>\n",
              "      <td>0439240751</td>\n",
              "      <td>5.0</td>\n",
              "      <td>6</td>\n",
              "    </tr>\n",
              "    <tr>\n",
              "      <th>37</th>\n",
              "      <td>Book</td>\n",
              "      <td>1573221740</td>\n",
              "      <td>5.0</td>\n",
              "      <td>7</td>\n",
              "    </tr>\n",
              "    <tr>\n",
              "      <th>38</th>\n",
              "      <td>Book</td>\n",
              "      <td>0590568833</td>\n",
              "      <td>5.0</td>\n",
              "      <td>8</td>\n",
              "    </tr>\n",
              "    <tr>\n",
              "      <th>39</th>\n",
              "      <td>Book</td>\n",
              "      <td>0944708498</td>\n",
              "      <td>5.0</td>\n",
              "      <td>9</td>\n",
              "    </tr>\n",
              "    <tr>\n",
              "      <th>40</th>\n",
              "      <td>Book</td>\n",
              "      <td>0613100093</td>\n",
              "      <td>5.0</td>\n",
              "      <td>10</td>\n",
              "    </tr>\n",
              "    <tr>\n",
              "      <th>41</th>\n",
              "      <td>Music</td>\n",
              "      <td>B000007R0T</td>\n",
              "      <td>5.0</td>\n",
              "      <td>1</td>\n",
              "    </tr>\n",
              "    <tr>\n",
              "      <th>42</th>\n",
              "      <td>Music</td>\n",
              "      <td>B00004W1WK</td>\n",
              "      <td>5.0</td>\n",
              "      <td>2</td>\n",
              "    </tr>\n",
              "    <tr>\n",
              "      <th>43</th>\n",
              "      <td>Music</td>\n",
              "      <td>B000000HFH</td>\n",
              "      <td>5.0</td>\n",
              "      <td>3</td>\n",
              "    </tr>\n",
              "    <tr>\n",
              "      <th>44</th>\n",
              "      <td>Music</td>\n",
              "      <td>B000003ONE</td>\n",
              "      <td>5.0</td>\n",
              "      <td>4</td>\n",
              "    </tr>\n",
              "    <tr>\n",
              "      <th>45</th>\n",
              "      <td>Music</td>\n",
              "      <td>B000003ONP</td>\n",
              "      <td>5.0</td>\n",
              "      <td>5</td>\n",
              "    </tr>\n",
              "    <tr>\n",
              "      <th>46</th>\n",
              "      <td>Music</td>\n",
              "      <td>B000000HF0</td>\n",
              "      <td>5.0</td>\n",
              "      <td>6</td>\n",
              "    </tr>\n",
              "    <tr>\n",
              "      <th>47</th>\n",
              "      <td>Music</td>\n",
              "      <td>B00005LAPN</td>\n",
              "      <td>5.0</td>\n",
              "      <td>7</td>\n",
              "    </tr>\n",
              "    <tr>\n",
              "      <th>48</th>\n",
              "      <td>Music</td>\n",
              "      <td>B0000506TM</td>\n",
              "      <td>5.0</td>\n",
              "      <td>8</td>\n",
              "    </tr>\n",
              "    <tr>\n",
              "      <th>49</th>\n",
              "      <td>Music</td>\n",
              "      <td>B000068GAS</td>\n",
              "      <td>5.0</td>\n",
              "      <td>9</td>\n",
              "    </tr>\n",
              "    <tr>\n",
              "      <th>50</th>\n",
              "      <td>Music</td>\n",
              "      <td>B00004TAU0</td>\n",
              "      <td>5.0</td>\n",
              "      <td>10</td>\n",
              "    </tr>\n",
              "    <tr>\n",
              "      <th>51</th>\n",
              "      <td>Software</td>\n",
              "      <td>B000001A3A</td>\n",
              "      <td>5.0</td>\n",
              "      <td>1</td>\n",
              "    </tr>\n",
              "    <tr>\n",
              "      <th>52</th>\n",
              "      <td>Software</td>\n",
              "      <td>157264317X</td>\n",
              "      <td>5.0</td>\n",
              "      <td>2</td>\n",
              "    </tr>\n",
              "    <tr>\n",
              "      <th>53</th>\n",
              "      <td>Software</td>\n",
              "      <td>B0000897BV</td>\n",
              "      <td>5.0</td>\n",
              "      <td>3</td>\n",
              "    </tr>\n",
              "    <tr>\n",
              "      <th>54</th>\n",
              "      <td>Software</td>\n",
              "      <td>0735608377</td>\n",
              "      <td>4.0</td>\n",
              "      <td>4</td>\n",
              "    </tr>\n",
              "    <tr>\n",
              "      <th>55</th>\n",
              "      <td>Software</td>\n",
              "      <td>0310230691</td>\n",
              "      <td>3.5</td>\n",
              "      <td>5</td>\n",
              "    </tr>\n",
              "    <tr>\n",
              "      <th>56</th>\n",
              "      <td>CE</td>\n",
              "      <td>6305275149</td>\n",
              "      <td>4.0</td>\n",
              "      <td>1</td>\n",
              "    </tr>\n",
              "    <tr>\n",
              "      <th>57</th>\n",
              "      <td>CE</td>\n",
              "      <td>1567125336</td>\n",
              "      <td>3.0</td>\n",
              "      <td>2</td>\n",
              "    </tr>\n",
              "    <tr>\n",
              "      <th>58</th>\n",
              "      <td>CE</td>\n",
              "      <td>1567120709</td>\n",
              "      <td>0.0</td>\n",
              "      <td>3</td>\n",
              "    </tr>\n",
              "    <tr>\n",
              "      <th>59</th>\n",
              "      <td>CE</td>\n",
              "      <td>6305275173</td>\n",
              "      <td>0.0</td>\n",
              "      <td>4</td>\n",
              "    </tr>\n",
              "  </tbody>\n",
              "</table>\n",
              "</div>"
            ],
            "text/plain": [
              "           group        Asin  average  row (group)\n",
              "0          Video  B0000060T5      5.0            1\n",
              "1          Video  B00000IC8N      5.0            2\n",
              "2          Video  6304733542      5.0            3\n",
              "3          Video  6301045734      5.0            4\n",
              "4          Video  0792296176      5.0            5\n",
              "5          Video  B00000I9PH      5.0            6\n",
              "6          Video  6303864120      5.0            7\n",
              "7          Video  1929732058      5.0            8\n",
              "8          Video  6304907761      5.0            9\n",
              "9          Video  6302598869      5.0           10\n",
              "10           Toy  B000075A8O      5.0            1\n",
              "11           Toy  0963679600      5.0            2\n",
              "12           Toy  0963679678      5.0            3\n",
              "13           Toy  1572810939      5.0            4\n",
              "14           Toy  B000059T05      4.0            5\n",
              "15           Toy  B000053W7W      3.5            6\n",
              "16           Toy  B000055XW3      3.0            7\n",
              "17           Toy  0963679627      0.0            8\n",
              "18           DVD  B00000IC8Z      5.0            1\n",
              "19           DVD  B00007L4N1      5.0            2\n",
              "20           DVD  B000050X32      5.0            3\n",
              "21           DVD  B00004RFI7      5.0            4\n",
              "22           DVD  B00005YTR8      5.0            5\n",
              "23           DVD  B00005NB96      5.0            6\n",
              "24           DVD  B00006DXXU      5.0            7\n",
              "25           DVD  B00004ST9H      5.0            8\n",
              "26           DVD  B00005RYA1      5.0            9\n",
              "27           DVD  6305972869      5.0           10\n",
              "28        Sports  B00002EPXM      4.0            1\n",
              "29  Baby Product  0880881658      4.5            1\n",
              "30   Video Games  0761542639      2.5            1\n",
              "31          Book  0827229534      5.0            1\n",
              "32          Book  0486287785      5.0            2\n",
              "33          Book  0871318237      5.0            3\n",
              "34          Book  3895780812      5.0            4\n",
              "35          Book  0895872218      5.0            5\n",
              "36          Book  0439240751      5.0            6\n",
              "37          Book  1573221740      5.0            7\n",
              "38          Book  0590568833      5.0            8\n",
              "39          Book  0944708498      5.0            9\n",
              "40          Book  0613100093      5.0           10\n",
              "41         Music  B000007R0T      5.0            1\n",
              "42         Music  B00004W1WK      5.0            2\n",
              "43         Music  B000000HFH      5.0            3\n",
              "44         Music  B000003ONE      5.0            4\n",
              "45         Music  B000003ONP      5.0            5\n",
              "46         Music  B000000HF0      5.0            6\n",
              "47         Music  B00005LAPN      5.0            7\n",
              "48         Music  B0000506TM      5.0            8\n",
              "49         Music  B000068GAS      5.0            9\n",
              "50         Music  B00004TAU0      5.0           10\n",
              "51      Software  B000001A3A      5.0            1\n",
              "52      Software  157264317X      5.0            2\n",
              "53      Software  B0000897BV      5.0            3\n",
              "54      Software  0735608377      4.0            4\n",
              "55      Software  0310230691      3.5            5\n",
              "56            CE  6305275149      4.0            1\n",
              "57            CE  1567125336      3.0            2\n",
              "58            CE  1567120709      0.0            3\n",
              "59            CE  6305275173      0.0            4"
            ]
          },
          "metadata": {
            "tags": []
          },
          "execution_count": 299
        }
      ]
    },
    {
      "cell_type": "code",
      "metadata": {
        "id": "ZYmWn-SjLxYc",
        "outputId": "c5afb91a-266c-4d23-e89a-edb4814942ea",
        "colab": {
          "base_uri": "https://localhost:8080/",
          "height": 204
        }
      },
      "source": [
        "# F\n",
        "pd.DataFrame(dataFrameF, columns=[\"categorie\", \"average\"])"
      ],
      "execution_count": null,
      "outputs": [
        {
          "output_type": "execute_result",
          "data": {
            "text/html": [
              "<div>\n",
              "<style scoped>\n",
              "    .dataframe tbody tr th:only-of-type {\n",
              "        vertical-align: middle;\n",
              "    }\n",
              "\n",
              "    .dataframe tbody tr th {\n",
              "        vertical-align: top;\n",
              "    }\n",
              "\n",
              "    .dataframe thead th {\n",
              "        text-align: right;\n",
              "    }\n",
              "</style>\n",
              "<table border=\"1\" class=\"dataframe\">\n",
              "  <thead>\n",
              "    <tr style=\"text-align: right;\">\n",
              "      <th></th>\n",
              "      <th>categorie</th>\n",
              "      <th>average</th>\n",
              "    </tr>\n",
              "  </thead>\n",
              "  <tbody>\n",
              "    <tr>\n",
              "      <th>0</th>\n",
              "      <td>Say, Fazil[58713]</td>\n",
              "      <td>5.0</td>\n",
              "    </tr>\n",
              "    <tr>\n",
              "      <th>1</th>\n",
              "      <td>Verrocchio, Andrea del[1449]</td>\n",
              "      <td>5.0</td>\n",
              "    </tr>\n",
              "    <tr>\n",
              "      <th>2</th>\n",
              "      <td>Major, John[2416]</td>\n",
              "      <td>5.0</td>\n",
              "    </tr>\n",
              "    <tr>\n",
              "      <th>3</th>\n",
              "      <td>Warsaw[67673]</td>\n",
              "      <td>5.0</td>\n",
              "    </tr>\n",
              "    <tr>\n",
              "      <th>4</th>\n",
              "      <td>Tolkin, Stephen[167969]</td>\n",
              "      <td>5.0</td>\n",
              "    </tr>\n",
              "  </tbody>\n",
              "</table>\n",
              "</div>"
            ],
            "text/plain": [
              "                      categorie  average\n",
              "0             Say, Fazil[58713]      5.0\n",
              "1  Verrocchio, Andrea del[1449]      5.0\n",
              "2             Major, John[2416]      5.0\n",
              "3                 Warsaw[67673]      5.0\n",
              "4       Tolkin, Stephen[167969]      5.0"
            ]
          },
          "metadata": {
            "tags": []
          },
          "execution_count": 300
        }
      ]
    },
    {
      "cell_type": "code",
      "metadata": {
        "id": "04LclpopLzjL",
        "outputId": "f8ccbf20-8a86-4162-af1b-9bf42e745c22",
        "colab": {
          "base_uri": "https://localhost:8080/",
          "height": 419
        }
      },
      "source": [
        "# G\n",
        "pd.DataFrame(dataFrameG, columns=[\"group\", \"customer\", \"count(comment)\", \"row(group)\"])"
      ],
      "execution_count": null,
      "outputs": [
        {
          "output_type": "execute_result",
          "data": {
            "text/html": [
              "<div>\n",
              "<style scoped>\n",
              "    .dataframe tbody tr th:only-of-type {\n",
              "        vertical-align: middle;\n",
              "    }\n",
              "\n",
              "    .dataframe tbody tr th {\n",
              "        vertical-align: top;\n",
              "    }\n",
              "\n",
              "    .dataframe thead th {\n",
              "        text-align: right;\n",
              "    }\n",
              "</style>\n",
              "<table border=\"1\" class=\"dataframe\">\n",
              "  <thead>\n",
              "    <tr style=\"text-align: right;\">\n",
              "      <th></th>\n",
              "      <th>group</th>\n",
              "      <th>customer</th>\n",
              "      <th>count(comment)</th>\n",
              "      <th>row(group)</th>\n",
              "    </tr>\n",
              "  </thead>\n",
              "  <tbody>\n",
              "    <tr>\n",
              "      <th>0</th>\n",
              "      <td>Video</td>\n",
              "      <td>ATVPDKIKX0DER</td>\n",
              "      <td>72581</td>\n",
              "      <td>1</td>\n",
              "    </tr>\n",
              "    <tr>\n",
              "      <th>1</th>\n",
              "      <td>Video</td>\n",
              "      <td>A3UN6WX5RRO2AG</td>\n",
              "      <td>15814</td>\n",
              "      <td>2</td>\n",
              "    </tr>\n",
              "    <tr>\n",
              "      <th>2</th>\n",
              "      <td>Video</td>\n",
              "      <td>A2NJO6YE954DBH</td>\n",
              "      <td>1775</td>\n",
              "      <td>3</td>\n",
              "    </tr>\n",
              "    <tr>\n",
              "      <th>3</th>\n",
              "      <td>Video</td>\n",
              "      <td>AU8552YCOO5QX</td>\n",
              "      <td>1205</td>\n",
              "      <td>4</td>\n",
              "    </tr>\n",
              "    <tr>\n",
              "      <th>4</th>\n",
              "      <td>Video</td>\n",
              "      <td>A3P1A63Q8L32C5</td>\n",
              "      <td>737</td>\n",
              "      <td>5</td>\n",
              "    </tr>\n",
              "    <tr>\n",
              "      <th>...</th>\n",
              "      <td>...</td>\n",
              "      <td>...</td>\n",
              "      <td>...</td>\n",
              "      <td>...</td>\n",
              "    </tr>\n",
              "    <tr>\n",
              "      <th>71</th>\n",
              "      <td>CE</td>\n",
              "      <td>A1SFX3CR838F36</td>\n",
              "      <td>1</td>\n",
              "      <td>1</td>\n",
              "    </tr>\n",
              "    <tr>\n",
              "      <th>72</th>\n",
              "      <td>CE</td>\n",
              "      <td>A2IX9TMXDBUCYV</td>\n",
              "      <td>1</td>\n",
              "      <td>2</td>\n",
              "    </tr>\n",
              "    <tr>\n",
              "      <th>73</th>\n",
              "      <td>CE</td>\n",
              "      <td>A1J62O1S6QTHZJ</td>\n",
              "      <td>1</td>\n",
              "      <td>3</td>\n",
              "    </tr>\n",
              "    <tr>\n",
              "      <th>74</th>\n",
              "      <td>CE</td>\n",
              "      <td>A13JU90C7AU3RT</td>\n",
              "      <td>1</td>\n",
              "      <td>4</td>\n",
              "    </tr>\n",
              "    <tr>\n",
              "      <th>75</th>\n",
              "      <td>CE</td>\n",
              "      <td>A1328SYT22GA4U</td>\n",
              "      <td>1</td>\n",
              "      <td>5</td>\n",
              "    </tr>\n",
              "  </tbody>\n",
              "</table>\n",
              "<p>76 rows × 4 columns</p>\n",
              "</div>"
            ],
            "text/plain": [
              "    group        customer  count(comment)  row(group)\n",
              "0   Video   ATVPDKIKX0DER           72581           1\n",
              "1   Video  A3UN6WX5RRO2AG           15814           2\n",
              "2   Video  A2NJO6YE954DBH            1775           3\n",
              "3   Video   AU8552YCOO5QX            1205           4\n",
              "4   Video  A3P1A63Q8L32C5             737           5\n",
              "..    ...             ...             ...         ...\n",
              "71     CE  A1SFX3CR838F36               1           1\n",
              "72     CE  A2IX9TMXDBUCYV               1           2\n",
              "73     CE  A1J62O1S6QTHZJ               1           3\n",
              "74     CE  A13JU90C7AU3RT               1           4\n",
              "75     CE  A1328SYT22GA4U               1           5\n",
              "\n",
              "[76 rows x 4 columns]"
            ]
          },
          "metadata": {
            "tags": []
          },
          "execution_count": 301
        }
      ]
    },
    {
      "cell_type": "markdown",
      "metadata": {
        "id": "TxP3gYd6KCRR"
      },
      "source": [
        "----"
      ]
    },
    {
      "cell_type": "markdown",
      "metadata": {
        "id": "fywksW1xKDVs"
      },
      "source": [
        "DashBoard (Views)\n",
        "-----"
      ]
    },
    {
      "cell_type": "code",
      "metadata": {
        "id": "MyOVCmgvBL0v",
        "outputId": "4d362ba4-d2ea-4b48-902a-eb2e3a83a545",
        "colab": {
          "base_uri": "https://localhost:8080/"
        }
      },
      "source": [
        "print(f'Product: {productAsin}')"
      ],
      "execution_count": null,
      "outputs": [
        {
          "output_type": "stream",
          "text": [
            "Product: 0738700797\n"
          ],
          "name": "stdout"
        }
      ]
    },
    {
      "cell_type": "code",
      "metadata": {
        "id": "ivvbTntq7OTC",
        "outputId": "90570917-edf9-4179-e7b6-99abd6318627",
        "colab": {
          "base_uri": "https://localhost:8080/",
          "height": 204
        }
      },
      "source": [
        "# A1\n",
        "pd.DataFrame(sqlA1,  columns=[\"asin\", \"helpful\", \"rating\"])"
      ],
      "execution_count": null,
      "outputs": [
        {
          "output_type": "execute_result",
          "data": {
            "text/html": [
              "<div>\n",
              "<style scoped>\n",
              "    .dataframe tbody tr th:only-of-type {\n",
              "        vertical-align: middle;\n",
              "    }\n",
              "\n",
              "    .dataframe tbody tr th {\n",
              "        vertical-align: top;\n",
              "    }\n",
              "\n",
              "    .dataframe thead th {\n",
              "        text-align: right;\n",
              "    }\n",
              "</style>\n",
              "<table border=\"1\" class=\"dataframe\">\n",
              "  <thead>\n",
              "    <tr style=\"text-align: right;\">\n",
              "      <th></th>\n",
              "      <th>asin</th>\n",
              "      <th>helpful</th>\n",
              "      <th>rating</th>\n",
              "    </tr>\n",
              "  </thead>\n",
              "  <tbody>\n",
              "    <tr>\n",
              "      <th>0</th>\n",
              "      <td>0738700797</td>\n",
              "      <td>8</td>\n",
              "      <td>5</td>\n",
              "    </tr>\n",
              "    <tr>\n",
              "      <th>1</th>\n",
              "      <td>0738700797</td>\n",
              "      <td>8</td>\n",
              "      <td>5</td>\n",
              "    </tr>\n",
              "    <tr>\n",
              "      <th>2</th>\n",
              "      <td>0738700797</td>\n",
              "      <td>5</td>\n",
              "      <td>5</td>\n",
              "    </tr>\n",
              "    <tr>\n",
              "      <th>3</th>\n",
              "      <td>0738700797</td>\n",
              "      <td>5</td>\n",
              "      <td>5</td>\n",
              "    </tr>\n",
              "    <tr>\n",
              "      <th>4</th>\n",
              "      <td>0738700797</td>\n",
              "      <td>4</td>\n",
              "      <td>5</td>\n",
              "    </tr>\n",
              "  </tbody>\n",
              "</table>\n",
              "</div>"
            ],
            "text/plain": [
              "         asin  helpful  rating\n",
              "0  0738700797        8       5\n",
              "1  0738700797        8       5\n",
              "2  0738700797        5       5\n",
              "3  0738700797        5       5\n",
              "4  0738700797        4       5"
            ]
          },
          "metadata": {
            "tags": []
          },
          "execution_count": 327
        }
      ]
    },
    {
      "cell_type": "code",
      "metadata": {
        "id": "EpO_tgxj85C1",
        "outputId": "77de232b-8f19-4721-b4ac-0cfc22699a8f",
        "colab": {
          "base_uri": "https://localhost:8080/",
          "height": 204
        }
      },
      "source": [
        "# A2\n",
        "pd.DataFrame(sqlA2,  columns=[\"asin\", \"helpful\", \"rating\"])"
      ],
      "execution_count": null,
      "outputs": [
        {
          "output_type": "execute_result",
          "data": {
            "text/html": [
              "<div>\n",
              "<style scoped>\n",
              "    .dataframe tbody tr th:only-of-type {\n",
              "        vertical-align: middle;\n",
              "    }\n",
              "\n",
              "    .dataframe tbody tr th {\n",
              "        vertical-align: top;\n",
              "    }\n",
              "\n",
              "    .dataframe thead th {\n",
              "        text-align: right;\n",
              "    }\n",
              "</style>\n",
              "<table border=\"1\" class=\"dataframe\">\n",
              "  <thead>\n",
              "    <tr style=\"text-align: right;\">\n",
              "      <th></th>\n",
              "      <th>asin</th>\n",
              "      <th>helpful</th>\n",
              "      <th>rating</th>\n",
              "    </tr>\n",
              "  </thead>\n",
              "  <tbody>\n",
              "    <tr>\n",
              "      <th>0</th>\n",
              "      <td>0738700797</td>\n",
              "      <td>9</td>\n",
              "      <td>1</td>\n",
              "    </tr>\n",
              "    <tr>\n",
              "      <th>1</th>\n",
              "      <td>0738700797</td>\n",
              "      <td>16</td>\n",
              "      <td>4</td>\n",
              "    </tr>\n",
              "    <tr>\n",
              "      <th>2</th>\n",
              "      <td>0738700797</td>\n",
              "      <td>6</td>\n",
              "      <td>4</td>\n",
              "    </tr>\n",
              "    <tr>\n",
              "      <th>3</th>\n",
              "      <td>0738700797</td>\n",
              "      <td>5</td>\n",
              "      <td>4</td>\n",
              "    </tr>\n",
              "    <tr>\n",
              "      <th>4</th>\n",
              "      <td>0738700797</td>\n",
              "      <td>5</td>\n",
              "      <td>4</td>\n",
              "    </tr>\n",
              "  </tbody>\n",
              "</table>\n",
              "</div>"
            ],
            "text/plain": [
              "         asin  helpful  rating\n",
              "0  0738700797        9       1\n",
              "1  0738700797       16       4\n",
              "2  0738700797        6       4\n",
              "3  0738700797        5       4\n",
              "4  0738700797        5       4"
            ]
          },
          "metadata": {
            "tags": []
          },
          "execution_count": 328
        }
      ]
    },
    {
      "cell_type": "code",
      "metadata": {
        "id": "Uznq8oje8qXM",
        "outputId": "015ebc51-c3c9-46e5-c74b-6968202c6e8a",
        "colab": {
          "base_uri": "https://localhost:8080/",
          "height": 111
        }
      },
      "source": [
        "#B\n",
        "pd.DataFrame(sqlB, columns=[\"ASIN(Similar)\", \"Similar Sales\"])"
      ],
      "execution_count": null,
      "outputs": [
        {
          "output_type": "execute_result",
          "data": {
            "text/html": [
              "<div>\n",
              "<style scoped>\n",
              "    .dataframe tbody tr th:only-of-type {\n",
              "        vertical-align: middle;\n",
              "    }\n",
              "\n",
              "    .dataframe tbody tr th {\n",
              "        vertical-align: top;\n",
              "    }\n",
              "\n",
              "    .dataframe thead th {\n",
              "        text-align: right;\n",
              "    }\n",
              "</style>\n",
              "<table border=\"1\" class=\"dataframe\">\n",
              "  <thead>\n",
              "    <tr style=\"text-align: right;\">\n",
              "      <th></th>\n",
              "      <th>ASIN(Similar)</th>\n",
              "      <th>Similar Sales</th>\n",
              "    </tr>\n",
              "  </thead>\n",
              "  <tbody>\n",
              "    <tr>\n",
              "      <th>0</th>\n",
              "      <td>1567184960</td>\n",
              "      <td>103012</td>\n",
              "    </tr>\n",
              "    <tr>\n",
              "      <th>1</th>\n",
              "      <td>0738700525</td>\n",
              "      <td>159277</td>\n",
              "    </tr>\n",
              "  </tbody>\n",
              "</table>\n",
              "</div>"
            ],
            "text/plain": [
              "  ASIN(Similar) Similar Sales\n",
              "0    1567184960        103012\n",
              "1    0738700525        159277"
            ]
          },
          "metadata": {
            "tags": []
          },
          "execution_count": 329
        }
      ]
    },
    {
      "cell_type": "code",
      "metadata": {
        "id": "iq_QALhY87xj",
        "outputId": "ae05bf0d-d628-4c25-89d2-696267e5e93d",
        "colab": {
          "base_uri": "https://localhost:8080/",
          "height": 421
        }
      },
      "source": [
        "# C\n",
        "pd.DataFrame(sqlC, columns=[\"Date\", \"Average\"])"
      ],
      "execution_count": null,
      "outputs": [
        {
          "output_type": "execute_result",
          "data": {
            "text/html": [
              "<div>\n",
              "<style scoped>\n",
              "    .dataframe tbody tr th:only-of-type {\n",
              "        vertical-align: middle;\n",
              "    }\n",
              "\n",
              "    .dataframe tbody tr th {\n",
              "        vertical-align: top;\n",
              "    }\n",
              "\n",
              "    .dataframe thead th {\n",
              "        text-align: right;\n",
              "    }\n",
              "</style>\n",
              "<table border=\"1\" class=\"dataframe\">\n",
              "  <thead>\n",
              "    <tr style=\"text-align: right;\">\n",
              "      <th></th>\n",
              "      <th>Date</th>\n",
              "      <th>Average</th>\n",
              "    </tr>\n",
              "  </thead>\n",
              "  <tbody>\n",
              "    <tr>\n",
              "      <th>0</th>\n",
              "      <td>2001-12-16</td>\n",
              "      <td>5.0</td>\n",
              "    </tr>\n",
              "    <tr>\n",
              "      <th>1</th>\n",
              "      <td>2002-01-07</td>\n",
              "      <td>4.0</td>\n",
              "    </tr>\n",
              "    <tr>\n",
              "      <th>2</th>\n",
              "      <td>2002-01-24</td>\n",
              "      <td>5.0</td>\n",
              "    </tr>\n",
              "    <tr>\n",
              "      <th>3</th>\n",
              "      <td>2002-01-28</td>\n",
              "      <td>5.0</td>\n",
              "    </tr>\n",
              "    <tr>\n",
              "      <th>4</th>\n",
              "      <td>2002-02-06</td>\n",
              "      <td>4.0</td>\n",
              "    </tr>\n",
              "    <tr>\n",
              "      <th>5</th>\n",
              "      <td>2002-02-14</td>\n",
              "      <td>4.0</td>\n",
              "    </tr>\n",
              "    <tr>\n",
              "      <th>6</th>\n",
              "      <td>2002-03-23</td>\n",
              "      <td>4.0</td>\n",
              "    </tr>\n",
              "    <tr>\n",
              "      <th>7</th>\n",
              "      <td>2002-05-23</td>\n",
              "      <td>5.0</td>\n",
              "    </tr>\n",
              "    <tr>\n",
              "      <th>8</th>\n",
              "      <td>2003-02-25</td>\n",
              "      <td>5.0</td>\n",
              "    </tr>\n",
              "    <tr>\n",
              "      <th>9</th>\n",
              "      <td>2003-11-25</td>\n",
              "      <td>5.0</td>\n",
              "    </tr>\n",
              "    <tr>\n",
              "      <th>10</th>\n",
              "      <td>2004-02-11</td>\n",
              "      <td>1.0</td>\n",
              "    </tr>\n",
              "    <tr>\n",
              "      <th>11</th>\n",
              "      <td>2005-02-07</td>\n",
              "      <td>5.0</td>\n",
              "    </tr>\n",
              "  </tbody>\n",
              "</table>\n",
              "</div>"
            ],
            "text/plain": [
              "          Date  Average\n",
              "0   2001-12-16      5.0\n",
              "1   2002-01-07      4.0\n",
              "2   2002-01-24      5.0\n",
              "3   2002-01-28      5.0\n",
              "4   2002-02-06      4.0\n",
              "5   2002-02-14      4.0\n",
              "6   2002-03-23      4.0\n",
              "7   2002-05-23      5.0\n",
              "8   2003-02-25      5.0\n",
              "9   2003-11-25      5.0\n",
              "10  2004-02-11      1.0\n",
              "11  2005-02-07      5.0"
            ]
          },
          "metadata": {
            "tags": []
          },
          "execution_count": 330
        }
      ]
    },
    {
      "cell_type": "code",
      "metadata": {
        "id": "F0GFDrD4_ePE",
        "outputId": "4804b85d-c220-4a02-a12e-a2e1822b2b11",
        "colab": {
          "base_uri": "https://localhost:8080/",
          "height": 419
        }
      },
      "source": [
        "# D\n",
        "pd.DataFrame(sqlD, columns=[\"categorie\", \"salesrank\", \"asin\", \"row (categorie)\"])"
      ],
      "execution_count": null,
      "outputs": [
        {
          "output_type": "execute_result",
          "data": {
            "text/html": [
              "<div>\n",
              "<style scoped>\n",
              "    .dataframe tbody tr th:only-of-type {\n",
              "        vertical-align: middle;\n",
              "    }\n",
              "\n",
              "    .dataframe tbody tr th {\n",
              "        vertical-align: top;\n",
              "    }\n",
              "\n",
              "    .dataframe thead th {\n",
              "        text-align: right;\n",
              "    }\n",
              "</style>\n",
              "<table border=\"1\" class=\"dataframe\">\n",
              "  <thead>\n",
              "    <tr style=\"text-align: right;\">\n",
              "      <th></th>\n",
              "      <th>categorie</th>\n",
              "      <th>salesrank</th>\n",
              "      <th>asin</th>\n",
              "      <th>row (categorie)</th>\n",
              "    </tr>\n",
              "  </thead>\n",
              "  <tbody>\n",
              "    <tr>\n",
              "      <th>0</th>\n",
              "      <td>( J )[70031]</td>\n",
              "      <td>5224</td>\n",
              "      <td>0679722769</td>\n",
              "      <td>1</td>\n",
              "    </tr>\n",
              "    <tr>\n",
              "      <th>1</th>\n",
              "      <td>( J )[70031]</td>\n",
              "      <td>8728</td>\n",
              "      <td>0140432620</td>\n",
              "      <td>2</td>\n",
              "    </tr>\n",
              "    <tr>\n",
              "      <th>2</th>\n",
              "      <td>( J )[70031]</td>\n",
              "      <td>9342</td>\n",
              "      <td>0486268705</td>\n",
              "      <td>3</td>\n",
              "    </tr>\n",
              "    <tr>\n",
              "      <th>3</th>\n",
              "      <td>( J )[70031]</td>\n",
              "      <td>27533</td>\n",
              "      <td>0486266842</td>\n",
              "      <td>4</td>\n",
              "    </tr>\n",
              "    <tr>\n",
              "      <th>4</th>\n",
              "      <td>( J )[70031]</td>\n",
              "      <td>28030</td>\n",
              "      <td>0141181265</td>\n",
              "      <td>5</td>\n",
              "    </tr>\n",
              "    <tr>\n",
              "      <th>...</th>\n",
              "      <td>...</td>\n",
              "      <td>...</td>\n",
              "      <td>...</td>\n",
              "      <td>...</td>\n",
              "    </tr>\n",
              "    <tr>\n",
              "      <th>335934</th>\n",
              "      <td>[139452]</td>\n",
              "      <td>2</td>\n",
              "      <td>6301627024</td>\n",
              "      <td>6</td>\n",
              "    </tr>\n",
              "    <tr>\n",
              "      <th>335935</th>\n",
              "      <td>[139452]</td>\n",
              "      <td>6</td>\n",
              "      <td>B00005T33H</td>\n",
              "      <td>7</td>\n",
              "    </tr>\n",
              "    <tr>\n",
              "      <th>335936</th>\n",
              "      <td>[139452]</td>\n",
              "      <td>7</td>\n",
              "      <td>6302946387</td>\n",
              "      <td>8</td>\n",
              "    </tr>\n",
              "    <tr>\n",
              "      <th>335937</th>\n",
              "      <td>[139452]</td>\n",
              "      <td>8</td>\n",
              "      <td>6301729897</td>\n",
              "      <td>9</td>\n",
              "    </tr>\n",
              "    <tr>\n",
              "      <th>335938</th>\n",
              "      <td>[139452]</td>\n",
              "      <td>12</td>\n",
              "      <td>6300185788</td>\n",
              "      <td>10</td>\n",
              "    </tr>\n",
              "  </tbody>\n",
              "</table>\n",
              "<p>335939 rows × 4 columns</p>\n",
              "</div>"
            ],
            "text/plain": [
              "           categorie  salesrank        asin  row (categorie)\n",
              "0       ( J )[70031]       5224  0679722769                1\n",
              "1       ( J )[70031]       8728  0140432620                2\n",
              "2       ( J )[70031]       9342  0486268705                3\n",
              "3       ( J )[70031]      27533  0486266842                4\n",
              "4       ( J )[70031]      28030  0141181265                5\n",
              "...              ...        ...         ...              ...\n",
              "335934      [139452]          2  6301627024                6\n",
              "335935      [139452]          6  B00005T33H                7\n",
              "335936      [139452]          7  6302946387                8\n",
              "335937      [139452]          8  6301729897                9\n",
              "335938      [139452]         12  6300185788               10\n",
              "\n",
              "[335939 rows x 4 columns]"
            ]
          },
          "metadata": {
            "tags": []
          },
          "execution_count": 331
        }
      ]
    },
    {
      "cell_type": "code",
      "metadata": {
        "id": "EVamVp_Y_emO",
        "outputId": "c9f5038e-63c3-4a04-d822-f6a9bd84e9ba",
        "colab": {
          "base_uri": "https://localhost:8080/",
          "height": 1000
        }
      },
      "source": [
        "# E\n",
        "pd.DataFrame(sqlE, columns=[\"group\", \"asin\", \"average\", \"row (group)\"])"
      ],
      "execution_count": null,
      "outputs": [
        {
          "output_type": "execute_result",
          "data": {
            "text/html": [
              "<div>\n",
              "<style scoped>\n",
              "    .dataframe tbody tr th:only-of-type {\n",
              "        vertical-align: middle;\n",
              "    }\n",
              "\n",
              "    .dataframe tbody tr th {\n",
              "        vertical-align: top;\n",
              "    }\n",
              "\n",
              "    .dataframe thead th {\n",
              "        text-align: right;\n",
              "    }\n",
              "</style>\n",
              "<table border=\"1\" class=\"dataframe\">\n",
              "  <thead>\n",
              "    <tr style=\"text-align: right;\">\n",
              "      <th></th>\n",
              "      <th>group</th>\n",
              "      <th>asin</th>\n",
              "      <th>average</th>\n",
              "      <th>row (group)</th>\n",
              "    </tr>\n",
              "  </thead>\n",
              "  <tbody>\n",
              "    <tr>\n",
              "      <th>0</th>\n",
              "      <td>Video</td>\n",
              "      <td>B0000060T5</td>\n",
              "      <td>5.0</td>\n",
              "      <td>1</td>\n",
              "    </tr>\n",
              "    <tr>\n",
              "      <th>1</th>\n",
              "      <td>Video</td>\n",
              "      <td>B00000IC8N</td>\n",
              "      <td>5.0</td>\n",
              "      <td>2</td>\n",
              "    </tr>\n",
              "    <tr>\n",
              "      <th>2</th>\n",
              "      <td>Video</td>\n",
              "      <td>6304733542</td>\n",
              "      <td>5.0</td>\n",
              "      <td>3</td>\n",
              "    </tr>\n",
              "    <tr>\n",
              "      <th>3</th>\n",
              "      <td>Video</td>\n",
              "      <td>6301045734</td>\n",
              "      <td>5.0</td>\n",
              "      <td>4</td>\n",
              "    </tr>\n",
              "    <tr>\n",
              "      <th>4</th>\n",
              "      <td>Video</td>\n",
              "      <td>0792296176</td>\n",
              "      <td>5.0</td>\n",
              "      <td>5</td>\n",
              "    </tr>\n",
              "    <tr>\n",
              "      <th>5</th>\n",
              "      <td>Video</td>\n",
              "      <td>B00000I9PH</td>\n",
              "      <td>5.0</td>\n",
              "      <td>6</td>\n",
              "    </tr>\n",
              "    <tr>\n",
              "      <th>6</th>\n",
              "      <td>Video</td>\n",
              "      <td>6303864120</td>\n",
              "      <td>5.0</td>\n",
              "      <td>7</td>\n",
              "    </tr>\n",
              "    <tr>\n",
              "      <th>7</th>\n",
              "      <td>Video</td>\n",
              "      <td>1929732058</td>\n",
              "      <td>5.0</td>\n",
              "      <td>8</td>\n",
              "    </tr>\n",
              "    <tr>\n",
              "      <th>8</th>\n",
              "      <td>Video</td>\n",
              "      <td>6304907761</td>\n",
              "      <td>5.0</td>\n",
              "      <td>9</td>\n",
              "    </tr>\n",
              "    <tr>\n",
              "      <th>9</th>\n",
              "      <td>Video</td>\n",
              "      <td>6302598869</td>\n",
              "      <td>5.0</td>\n",
              "      <td>10</td>\n",
              "    </tr>\n",
              "    <tr>\n",
              "      <th>10</th>\n",
              "      <td>Toy</td>\n",
              "      <td>B000075A8O</td>\n",
              "      <td>5.0</td>\n",
              "      <td>1</td>\n",
              "    </tr>\n",
              "    <tr>\n",
              "      <th>11</th>\n",
              "      <td>Toy</td>\n",
              "      <td>0963679600</td>\n",
              "      <td>5.0</td>\n",
              "      <td>2</td>\n",
              "    </tr>\n",
              "    <tr>\n",
              "      <th>12</th>\n",
              "      <td>Toy</td>\n",
              "      <td>0963679678</td>\n",
              "      <td>5.0</td>\n",
              "      <td>3</td>\n",
              "    </tr>\n",
              "    <tr>\n",
              "      <th>13</th>\n",
              "      <td>Toy</td>\n",
              "      <td>1572810939</td>\n",
              "      <td>5.0</td>\n",
              "      <td>4</td>\n",
              "    </tr>\n",
              "    <tr>\n",
              "      <th>14</th>\n",
              "      <td>Toy</td>\n",
              "      <td>B000059T05</td>\n",
              "      <td>4.0</td>\n",
              "      <td>5</td>\n",
              "    </tr>\n",
              "    <tr>\n",
              "      <th>15</th>\n",
              "      <td>Toy</td>\n",
              "      <td>B000053W7W</td>\n",
              "      <td>3.5</td>\n",
              "      <td>6</td>\n",
              "    </tr>\n",
              "    <tr>\n",
              "      <th>16</th>\n",
              "      <td>Toy</td>\n",
              "      <td>B000055XW3</td>\n",
              "      <td>3.0</td>\n",
              "      <td>7</td>\n",
              "    </tr>\n",
              "    <tr>\n",
              "      <th>17</th>\n",
              "      <td>Toy</td>\n",
              "      <td>0963679627</td>\n",
              "      <td>0.0</td>\n",
              "      <td>8</td>\n",
              "    </tr>\n",
              "    <tr>\n",
              "      <th>18</th>\n",
              "      <td>DVD</td>\n",
              "      <td>B00000IC8Z</td>\n",
              "      <td>5.0</td>\n",
              "      <td>1</td>\n",
              "    </tr>\n",
              "    <tr>\n",
              "      <th>19</th>\n",
              "      <td>DVD</td>\n",
              "      <td>B00007L4N1</td>\n",
              "      <td>5.0</td>\n",
              "      <td>2</td>\n",
              "    </tr>\n",
              "    <tr>\n",
              "      <th>20</th>\n",
              "      <td>DVD</td>\n",
              "      <td>B000050X32</td>\n",
              "      <td>5.0</td>\n",
              "      <td>3</td>\n",
              "    </tr>\n",
              "    <tr>\n",
              "      <th>21</th>\n",
              "      <td>DVD</td>\n",
              "      <td>B00004RFI7</td>\n",
              "      <td>5.0</td>\n",
              "      <td>4</td>\n",
              "    </tr>\n",
              "    <tr>\n",
              "      <th>22</th>\n",
              "      <td>DVD</td>\n",
              "      <td>B00005YTR8</td>\n",
              "      <td>5.0</td>\n",
              "      <td>5</td>\n",
              "    </tr>\n",
              "    <tr>\n",
              "      <th>23</th>\n",
              "      <td>DVD</td>\n",
              "      <td>B00005NB96</td>\n",
              "      <td>5.0</td>\n",
              "      <td>6</td>\n",
              "    </tr>\n",
              "    <tr>\n",
              "      <th>24</th>\n",
              "      <td>DVD</td>\n",
              "      <td>B00006DXXU</td>\n",
              "      <td>5.0</td>\n",
              "      <td>7</td>\n",
              "    </tr>\n",
              "    <tr>\n",
              "      <th>25</th>\n",
              "      <td>DVD</td>\n",
              "      <td>B00004ST9H</td>\n",
              "      <td>5.0</td>\n",
              "      <td>8</td>\n",
              "    </tr>\n",
              "    <tr>\n",
              "      <th>26</th>\n",
              "      <td>DVD</td>\n",
              "      <td>B00005RYA1</td>\n",
              "      <td>5.0</td>\n",
              "      <td>9</td>\n",
              "    </tr>\n",
              "    <tr>\n",
              "      <th>27</th>\n",
              "      <td>DVD</td>\n",
              "      <td>6305972869</td>\n",
              "      <td>5.0</td>\n",
              "      <td>10</td>\n",
              "    </tr>\n",
              "    <tr>\n",
              "      <th>28</th>\n",
              "      <td>Sports</td>\n",
              "      <td>B00002EPXM</td>\n",
              "      <td>4.0</td>\n",
              "      <td>1</td>\n",
              "    </tr>\n",
              "    <tr>\n",
              "      <th>29</th>\n",
              "      <td>Baby Product</td>\n",
              "      <td>0880881658</td>\n",
              "      <td>4.5</td>\n",
              "      <td>1</td>\n",
              "    </tr>\n",
              "    <tr>\n",
              "      <th>30</th>\n",
              "      <td>Video Games</td>\n",
              "      <td>0761542639</td>\n",
              "      <td>2.5</td>\n",
              "      <td>1</td>\n",
              "    </tr>\n",
              "    <tr>\n",
              "      <th>31</th>\n",
              "      <td>Book</td>\n",
              "      <td>0827229534</td>\n",
              "      <td>5.0</td>\n",
              "      <td>1</td>\n",
              "    </tr>\n",
              "    <tr>\n",
              "      <th>32</th>\n",
              "      <td>Book</td>\n",
              "      <td>0486287785</td>\n",
              "      <td>5.0</td>\n",
              "      <td>2</td>\n",
              "    </tr>\n",
              "    <tr>\n",
              "      <th>33</th>\n",
              "      <td>Book</td>\n",
              "      <td>0871318237</td>\n",
              "      <td>5.0</td>\n",
              "      <td>3</td>\n",
              "    </tr>\n",
              "    <tr>\n",
              "      <th>34</th>\n",
              "      <td>Book</td>\n",
              "      <td>3895780812</td>\n",
              "      <td>5.0</td>\n",
              "      <td>4</td>\n",
              "    </tr>\n",
              "    <tr>\n",
              "      <th>35</th>\n",
              "      <td>Book</td>\n",
              "      <td>0895872218</td>\n",
              "      <td>5.0</td>\n",
              "      <td>5</td>\n",
              "    </tr>\n",
              "    <tr>\n",
              "      <th>36</th>\n",
              "      <td>Book</td>\n",
              "      <td>0439240751</td>\n",
              "      <td>5.0</td>\n",
              "      <td>6</td>\n",
              "    </tr>\n",
              "    <tr>\n",
              "      <th>37</th>\n",
              "      <td>Book</td>\n",
              "      <td>1573221740</td>\n",
              "      <td>5.0</td>\n",
              "      <td>7</td>\n",
              "    </tr>\n",
              "    <tr>\n",
              "      <th>38</th>\n",
              "      <td>Book</td>\n",
              "      <td>0590568833</td>\n",
              "      <td>5.0</td>\n",
              "      <td>8</td>\n",
              "    </tr>\n",
              "    <tr>\n",
              "      <th>39</th>\n",
              "      <td>Book</td>\n",
              "      <td>0944708498</td>\n",
              "      <td>5.0</td>\n",
              "      <td>9</td>\n",
              "    </tr>\n",
              "    <tr>\n",
              "      <th>40</th>\n",
              "      <td>Book</td>\n",
              "      <td>0613100093</td>\n",
              "      <td>5.0</td>\n",
              "      <td>10</td>\n",
              "    </tr>\n",
              "    <tr>\n",
              "      <th>41</th>\n",
              "      <td>Music</td>\n",
              "      <td>B000007R0T</td>\n",
              "      <td>5.0</td>\n",
              "      <td>1</td>\n",
              "    </tr>\n",
              "    <tr>\n",
              "      <th>42</th>\n",
              "      <td>Music</td>\n",
              "      <td>B00004W1WK</td>\n",
              "      <td>5.0</td>\n",
              "      <td>2</td>\n",
              "    </tr>\n",
              "    <tr>\n",
              "      <th>43</th>\n",
              "      <td>Music</td>\n",
              "      <td>B000000HFH</td>\n",
              "      <td>5.0</td>\n",
              "      <td>3</td>\n",
              "    </tr>\n",
              "    <tr>\n",
              "      <th>44</th>\n",
              "      <td>Music</td>\n",
              "      <td>B000003ONE</td>\n",
              "      <td>5.0</td>\n",
              "      <td>4</td>\n",
              "    </tr>\n",
              "    <tr>\n",
              "      <th>45</th>\n",
              "      <td>Music</td>\n",
              "      <td>B000003ONP</td>\n",
              "      <td>5.0</td>\n",
              "      <td>5</td>\n",
              "    </tr>\n",
              "    <tr>\n",
              "      <th>46</th>\n",
              "      <td>Music</td>\n",
              "      <td>B000000HF0</td>\n",
              "      <td>5.0</td>\n",
              "      <td>6</td>\n",
              "    </tr>\n",
              "    <tr>\n",
              "      <th>47</th>\n",
              "      <td>Music</td>\n",
              "      <td>B00005LAPN</td>\n",
              "      <td>5.0</td>\n",
              "      <td>7</td>\n",
              "    </tr>\n",
              "    <tr>\n",
              "      <th>48</th>\n",
              "      <td>Music</td>\n",
              "      <td>B0000506TM</td>\n",
              "      <td>5.0</td>\n",
              "      <td>8</td>\n",
              "    </tr>\n",
              "    <tr>\n",
              "      <th>49</th>\n",
              "      <td>Music</td>\n",
              "      <td>B000068GAS</td>\n",
              "      <td>5.0</td>\n",
              "      <td>9</td>\n",
              "    </tr>\n",
              "    <tr>\n",
              "      <th>50</th>\n",
              "      <td>Music</td>\n",
              "      <td>B00004TAU0</td>\n",
              "      <td>5.0</td>\n",
              "      <td>10</td>\n",
              "    </tr>\n",
              "    <tr>\n",
              "      <th>51</th>\n",
              "      <td>Software</td>\n",
              "      <td>B000001A3A</td>\n",
              "      <td>5.0</td>\n",
              "      <td>1</td>\n",
              "    </tr>\n",
              "    <tr>\n",
              "      <th>52</th>\n",
              "      <td>Software</td>\n",
              "      <td>157264317X</td>\n",
              "      <td>5.0</td>\n",
              "      <td>2</td>\n",
              "    </tr>\n",
              "    <tr>\n",
              "      <th>53</th>\n",
              "      <td>Software</td>\n",
              "      <td>B0000897BV</td>\n",
              "      <td>5.0</td>\n",
              "      <td>3</td>\n",
              "    </tr>\n",
              "    <tr>\n",
              "      <th>54</th>\n",
              "      <td>Software</td>\n",
              "      <td>0735608377</td>\n",
              "      <td>4.0</td>\n",
              "      <td>4</td>\n",
              "    </tr>\n",
              "    <tr>\n",
              "      <th>55</th>\n",
              "      <td>Software</td>\n",
              "      <td>0310230691</td>\n",
              "      <td>3.5</td>\n",
              "      <td>5</td>\n",
              "    </tr>\n",
              "    <tr>\n",
              "      <th>56</th>\n",
              "      <td>CE</td>\n",
              "      <td>6305275149</td>\n",
              "      <td>4.0</td>\n",
              "      <td>1</td>\n",
              "    </tr>\n",
              "    <tr>\n",
              "      <th>57</th>\n",
              "      <td>CE</td>\n",
              "      <td>1567125336</td>\n",
              "      <td>3.0</td>\n",
              "      <td>2</td>\n",
              "    </tr>\n",
              "    <tr>\n",
              "      <th>58</th>\n",
              "      <td>CE</td>\n",
              "      <td>1567120709</td>\n",
              "      <td>0.0</td>\n",
              "      <td>3</td>\n",
              "    </tr>\n",
              "    <tr>\n",
              "      <th>59</th>\n",
              "      <td>CE</td>\n",
              "      <td>6305275173</td>\n",
              "      <td>0.0</td>\n",
              "      <td>4</td>\n",
              "    </tr>\n",
              "  </tbody>\n",
              "</table>\n",
              "</div>"
            ],
            "text/plain": [
              "           group        asin  average  row (group)\n",
              "0          Video  B0000060T5      5.0            1\n",
              "1          Video  B00000IC8N      5.0            2\n",
              "2          Video  6304733542      5.0            3\n",
              "3          Video  6301045734      5.0            4\n",
              "4          Video  0792296176      5.0            5\n",
              "5          Video  B00000I9PH      5.0            6\n",
              "6          Video  6303864120      5.0            7\n",
              "7          Video  1929732058      5.0            8\n",
              "8          Video  6304907761      5.0            9\n",
              "9          Video  6302598869      5.0           10\n",
              "10           Toy  B000075A8O      5.0            1\n",
              "11           Toy  0963679600      5.0            2\n",
              "12           Toy  0963679678      5.0            3\n",
              "13           Toy  1572810939      5.0            4\n",
              "14           Toy  B000059T05      4.0            5\n",
              "15           Toy  B000053W7W      3.5            6\n",
              "16           Toy  B000055XW3      3.0            7\n",
              "17           Toy  0963679627      0.0            8\n",
              "18           DVD  B00000IC8Z      5.0            1\n",
              "19           DVD  B00007L4N1      5.0            2\n",
              "20           DVD  B000050X32      5.0            3\n",
              "21           DVD  B00004RFI7      5.0            4\n",
              "22           DVD  B00005YTR8      5.0            5\n",
              "23           DVD  B00005NB96      5.0            6\n",
              "24           DVD  B00006DXXU      5.0            7\n",
              "25           DVD  B00004ST9H      5.0            8\n",
              "26           DVD  B00005RYA1      5.0            9\n",
              "27           DVD  6305972869      5.0           10\n",
              "28        Sports  B00002EPXM      4.0            1\n",
              "29  Baby Product  0880881658      4.5            1\n",
              "30   Video Games  0761542639      2.5            1\n",
              "31          Book  0827229534      5.0            1\n",
              "32          Book  0486287785      5.0            2\n",
              "33          Book  0871318237      5.0            3\n",
              "34          Book  3895780812      5.0            4\n",
              "35          Book  0895872218      5.0            5\n",
              "36          Book  0439240751      5.0            6\n",
              "37          Book  1573221740      5.0            7\n",
              "38          Book  0590568833      5.0            8\n",
              "39          Book  0944708498      5.0            9\n",
              "40          Book  0613100093      5.0           10\n",
              "41         Music  B000007R0T      5.0            1\n",
              "42         Music  B00004W1WK      5.0            2\n",
              "43         Music  B000000HFH      5.0            3\n",
              "44         Music  B000003ONE      5.0            4\n",
              "45         Music  B000003ONP      5.0            5\n",
              "46         Music  B000000HF0      5.0            6\n",
              "47         Music  B00005LAPN      5.0            7\n",
              "48         Music  B0000506TM      5.0            8\n",
              "49         Music  B000068GAS      5.0            9\n",
              "50         Music  B00004TAU0      5.0           10\n",
              "51      Software  B000001A3A      5.0            1\n",
              "52      Software  157264317X      5.0            2\n",
              "53      Software  B0000897BV      5.0            3\n",
              "54      Software  0735608377      4.0            4\n",
              "55      Software  0310230691      3.5            5\n",
              "56            CE  6305275149      4.0            1\n",
              "57            CE  1567125336      3.0            2\n",
              "58            CE  1567120709      0.0            3\n",
              "59            CE  6305275173      0.0            4"
            ]
          },
          "metadata": {
            "tags": []
          },
          "execution_count": 332
        }
      ]
    },
    {
      "cell_type": "code",
      "metadata": {
        "id": "tm5sdKFP_e2E",
        "outputId": "d02cde52-8861-4fd9-d56c-ba6239ecc634",
        "colab": {
          "base_uri": "https://localhost:8080/",
          "height": 204
        }
      },
      "source": [
        "# F\n",
        "pd.DataFrame(sqlF, columns=[\"categorie\", \"average\"])"
      ],
      "execution_count": null,
      "outputs": [
        {
          "output_type": "execute_result",
          "data": {
            "text/html": [
              "<div>\n",
              "<style scoped>\n",
              "    .dataframe tbody tr th:only-of-type {\n",
              "        vertical-align: middle;\n",
              "    }\n",
              "\n",
              "    .dataframe tbody tr th {\n",
              "        vertical-align: top;\n",
              "    }\n",
              "\n",
              "    .dataframe thead th {\n",
              "        text-align: right;\n",
              "    }\n",
              "</style>\n",
              "<table border=\"1\" class=\"dataframe\">\n",
              "  <thead>\n",
              "    <tr style=\"text-align: right;\">\n",
              "      <th></th>\n",
              "      <th>categorie</th>\n",
              "      <th>average</th>\n",
              "    </tr>\n",
              "  </thead>\n",
              "  <tbody>\n",
              "    <tr>\n",
              "      <th>0</th>\n",
              "      <td>Say, Fazil[58713]</td>\n",
              "      <td>5.0</td>\n",
              "    </tr>\n",
              "    <tr>\n",
              "      <th>1</th>\n",
              "      <td>Verrocchio, Andrea del[1449]</td>\n",
              "      <td>5.0</td>\n",
              "    </tr>\n",
              "    <tr>\n",
              "      <th>2</th>\n",
              "      <td>Major, John[2416]</td>\n",
              "      <td>5.0</td>\n",
              "    </tr>\n",
              "    <tr>\n",
              "      <th>3</th>\n",
              "      <td>Warsaw[67673]</td>\n",
              "      <td>5.0</td>\n",
              "    </tr>\n",
              "    <tr>\n",
              "      <th>4</th>\n",
              "      <td>Tolkin, Stephen[167969]</td>\n",
              "      <td>5.0</td>\n",
              "    </tr>\n",
              "  </tbody>\n",
              "</table>\n",
              "</div>"
            ],
            "text/plain": [
              "                      categorie  average\n",
              "0             Say, Fazil[58713]      5.0\n",
              "1  Verrocchio, Andrea del[1449]      5.0\n",
              "2             Major, John[2416]      5.0\n",
              "3                 Warsaw[67673]      5.0\n",
              "4       Tolkin, Stephen[167969]      5.0"
            ]
          },
          "metadata": {
            "tags": []
          },
          "execution_count": 333
        }
      ]
    },
    {
      "cell_type": "code",
      "metadata": {
        "id": "j3aPNAsG_fPc",
        "outputId": "646d2543-f1bb-46d4-acd6-bbdaffc0a807",
        "colab": {
          "base_uri": "https://localhost:8080/",
          "height": 419
        }
      },
      "source": [
        "# G\n",
        "pd.DataFrame(sqlG, columns=[\"group\", \"customer\", \"count(comment)\", \"row(group)\"])"
      ],
      "execution_count": null,
      "outputs": [
        {
          "output_type": "execute_result",
          "data": {
            "text/html": [
              "<div>\n",
              "<style scoped>\n",
              "    .dataframe tbody tr th:only-of-type {\n",
              "        vertical-align: middle;\n",
              "    }\n",
              "\n",
              "    .dataframe tbody tr th {\n",
              "        vertical-align: top;\n",
              "    }\n",
              "\n",
              "    .dataframe thead th {\n",
              "        text-align: right;\n",
              "    }\n",
              "</style>\n",
              "<table border=\"1\" class=\"dataframe\">\n",
              "  <thead>\n",
              "    <tr style=\"text-align: right;\">\n",
              "      <th></th>\n",
              "      <th>group</th>\n",
              "      <th>customer</th>\n",
              "      <th>count(comment)</th>\n",
              "      <th>row(group)</th>\n",
              "    </tr>\n",
              "  </thead>\n",
              "  <tbody>\n",
              "    <tr>\n",
              "      <th>0</th>\n",
              "      <td>Video</td>\n",
              "      <td>ATVPDKIKX0DER</td>\n",
              "      <td>72581</td>\n",
              "      <td>1</td>\n",
              "    </tr>\n",
              "    <tr>\n",
              "      <th>1</th>\n",
              "      <td>Video</td>\n",
              "      <td>A3UN6WX5RRO2AG</td>\n",
              "      <td>15814</td>\n",
              "      <td>2</td>\n",
              "    </tr>\n",
              "    <tr>\n",
              "      <th>2</th>\n",
              "      <td>Video</td>\n",
              "      <td>A2NJO6YE954DBH</td>\n",
              "      <td>1775</td>\n",
              "      <td>3</td>\n",
              "    </tr>\n",
              "    <tr>\n",
              "      <th>3</th>\n",
              "      <td>Video</td>\n",
              "      <td>AU8552YCOO5QX</td>\n",
              "      <td>1205</td>\n",
              "      <td>4</td>\n",
              "    </tr>\n",
              "    <tr>\n",
              "      <th>4</th>\n",
              "      <td>Video</td>\n",
              "      <td>A3P1A63Q8L32C5</td>\n",
              "      <td>737</td>\n",
              "      <td>5</td>\n",
              "    </tr>\n",
              "    <tr>\n",
              "      <th>...</th>\n",
              "      <td>...</td>\n",
              "      <td>...</td>\n",
              "      <td>...</td>\n",
              "      <td>...</td>\n",
              "    </tr>\n",
              "    <tr>\n",
              "      <th>71</th>\n",
              "      <td>CE</td>\n",
              "      <td>A1SFX3CR838F36</td>\n",
              "      <td>1</td>\n",
              "      <td>1</td>\n",
              "    </tr>\n",
              "    <tr>\n",
              "      <th>72</th>\n",
              "      <td>CE</td>\n",
              "      <td>A2IX9TMXDBUCYV</td>\n",
              "      <td>1</td>\n",
              "      <td>2</td>\n",
              "    </tr>\n",
              "    <tr>\n",
              "      <th>73</th>\n",
              "      <td>CE</td>\n",
              "      <td>A1J62O1S6QTHZJ</td>\n",
              "      <td>1</td>\n",
              "      <td>3</td>\n",
              "    </tr>\n",
              "    <tr>\n",
              "      <th>74</th>\n",
              "      <td>CE</td>\n",
              "      <td>A13JU90C7AU3RT</td>\n",
              "      <td>1</td>\n",
              "      <td>4</td>\n",
              "    </tr>\n",
              "    <tr>\n",
              "      <th>75</th>\n",
              "      <td>CE</td>\n",
              "      <td>A1328SYT22GA4U</td>\n",
              "      <td>1</td>\n",
              "      <td>5</td>\n",
              "    </tr>\n",
              "  </tbody>\n",
              "</table>\n",
              "<p>76 rows × 4 columns</p>\n",
              "</div>"
            ],
            "text/plain": [
              "    group        customer  count(comment)  row(group)\n",
              "0   Video   ATVPDKIKX0DER           72581           1\n",
              "1   Video  A3UN6WX5RRO2AG           15814           2\n",
              "2   Video  A2NJO6YE954DBH            1775           3\n",
              "3   Video   AU8552YCOO5QX            1205           4\n",
              "4   Video  A3P1A63Q8L32C5             737           5\n",
              "..    ...             ...             ...         ...\n",
              "71     CE  A1SFX3CR838F36               1           1\n",
              "72     CE  A2IX9TMXDBUCYV               1           2\n",
              "73     CE  A1J62O1S6QTHZJ               1           3\n",
              "74     CE  A13JU90C7AU3RT               1           4\n",
              "75     CE  A1328SYT22GA4U               1           5\n",
              "\n",
              "[76 rows x 4 columns]"
            ]
          },
          "metadata": {
            "tags": []
          },
          "execution_count": 334
        }
      ]
    }
  ]
}